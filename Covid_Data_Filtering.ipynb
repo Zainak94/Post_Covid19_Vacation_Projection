{
 "metadata": {
  "language_info": {
   "codemirror_mode": {
    "name": "ipython",
    "version": 3
   },
   "file_extension": ".py",
   "mimetype": "text/x-python",
   "name": "python",
   "nbconvert_exporter": "python",
   "pygments_lexer": "ipython3",
   "version": "3.7.9"
  },
  "orig_nbformat": 2,
  "kernelspec": {
   "name": "pythondata",
   "display_name": "Python 3.7.9 64-bit ('PythonData': conda)"
  }
 },
 "nbformat": 4,
 "nbformat_minor": 2,
 "cells": [
  {
   "cell_type": "code",
   "execution_count": 2,
   "metadata": {},
   "outputs": [
    {
     "output_type": "execute_result",
     "data": {
      "text/plain": [
       "  iso_code continent     location        date  total_cases  new_cases  \\\n",
       "0      AFG      Asia  Afghanistan  2020-02-24          1.0        1.0   \n",
       "1      AFG      Asia  Afghanistan  2020-02-25          1.0        0.0   \n",
       "2      AFG      Asia  Afghanistan  2020-02-26          1.0        0.0   \n",
       "3      AFG      Asia  Afghanistan  2020-02-27          1.0        0.0   \n",
       "4      AFG      Asia  Afghanistan  2020-02-28          1.0        0.0   \n",
       "\n",
       "   new_cases_smoothed  total_deaths  new_deaths  new_deaths_smoothed  ...  \\\n",
       "0                 NaN           NaN         NaN                  NaN  ...   \n",
       "1                 NaN           NaN         NaN                  NaN  ...   \n",
       "2                 NaN           NaN         NaN                  NaN  ...   \n",
       "3                 NaN           NaN         NaN                  NaN  ...   \n",
       "4                 NaN           NaN         NaN                  NaN  ...   \n",
       "\n",
       "   gdp_per_capita  extreme_poverty  cardiovasc_death_rate  \\\n",
       "0        1803.987              NaN                597.029   \n",
       "1        1803.987              NaN                597.029   \n",
       "2        1803.987              NaN                597.029   \n",
       "3        1803.987              NaN                597.029   \n",
       "4        1803.987              NaN                597.029   \n",
       "\n",
       "   diabetes_prevalence  female_smokers  male_smokers  handwashing_facilities  \\\n",
       "0                 9.59             NaN           NaN                  37.746   \n",
       "1                 9.59             NaN           NaN                  37.746   \n",
       "2                 9.59             NaN           NaN                  37.746   \n",
       "3                 9.59             NaN           NaN                  37.746   \n",
       "4                 9.59             NaN           NaN                  37.746   \n",
       "\n",
       "   hospital_beds_per_thousand  life_expectancy  human_development_index  \n",
       "0                         0.5            64.83                    0.511  \n",
       "1                         0.5            64.83                    0.511  \n",
       "2                         0.5            64.83                    0.511  \n",
       "3                         0.5            64.83                    0.511  \n",
       "4                         0.5            64.83                    0.511  \n",
       "\n",
       "[5 rows x 59 columns]"
      ],
      "text/html": "<div>\n<style scoped>\n    .dataframe tbody tr th:only-of-type {\n        vertical-align: middle;\n    }\n\n    .dataframe tbody tr th {\n        vertical-align: top;\n    }\n\n    .dataframe thead th {\n        text-align: right;\n    }\n</style>\n<table border=\"1\" class=\"dataframe\">\n  <thead>\n    <tr style=\"text-align: right;\">\n      <th></th>\n      <th>iso_code</th>\n      <th>continent</th>\n      <th>location</th>\n      <th>date</th>\n      <th>total_cases</th>\n      <th>new_cases</th>\n      <th>new_cases_smoothed</th>\n      <th>total_deaths</th>\n      <th>new_deaths</th>\n      <th>new_deaths_smoothed</th>\n      <th>...</th>\n      <th>gdp_per_capita</th>\n      <th>extreme_poverty</th>\n      <th>cardiovasc_death_rate</th>\n      <th>diabetes_prevalence</th>\n      <th>female_smokers</th>\n      <th>male_smokers</th>\n      <th>handwashing_facilities</th>\n      <th>hospital_beds_per_thousand</th>\n      <th>life_expectancy</th>\n      <th>human_development_index</th>\n    </tr>\n  </thead>\n  <tbody>\n    <tr>\n      <th>0</th>\n      <td>AFG</td>\n      <td>Asia</td>\n      <td>Afghanistan</td>\n      <td>2020-02-24</td>\n      <td>1.0</td>\n      <td>1.0</td>\n      <td>NaN</td>\n      <td>NaN</td>\n      <td>NaN</td>\n      <td>NaN</td>\n      <td>...</td>\n      <td>1803.987</td>\n      <td>NaN</td>\n      <td>597.029</td>\n      <td>9.59</td>\n      <td>NaN</td>\n      <td>NaN</td>\n      <td>37.746</td>\n      <td>0.5</td>\n      <td>64.83</td>\n      <td>0.511</td>\n    </tr>\n    <tr>\n      <th>1</th>\n      <td>AFG</td>\n      <td>Asia</td>\n      <td>Afghanistan</td>\n      <td>2020-02-25</td>\n      <td>1.0</td>\n      <td>0.0</td>\n      <td>NaN</td>\n      <td>NaN</td>\n      <td>NaN</td>\n      <td>NaN</td>\n      <td>...</td>\n      <td>1803.987</td>\n      <td>NaN</td>\n      <td>597.029</td>\n      <td>9.59</td>\n      <td>NaN</td>\n      <td>NaN</td>\n      <td>37.746</td>\n      <td>0.5</td>\n      <td>64.83</td>\n      <td>0.511</td>\n    </tr>\n    <tr>\n      <th>2</th>\n      <td>AFG</td>\n      <td>Asia</td>\n      <td>Afghanistan</td>\n      <td>2020-02-26</td>\n      <td>1.0</td>\n      <td>0.0</td>\n      <td>NaN</td>\n      <td>NaN</td>\n      <td>NaN</td>\n      <td>NaN</td>\n      <td>...</td>\n      <td>1803.987</td>\n      <td>NaN</td>\n      <td>597.029</td>\n      <td>9.59</td>\n      <td>NaN</td>\n      <td>NaN</td>\n      <td>37.746</td>\n      <td>0.5</td>\n      <td>64.83</td>\n      <td>0.511</td>\n    </tr>\n    <tr>\n      <th>3</th>\n      <td>AFG</td>\n      <td>Asia</td>\n      <td>Afghanistan</td>\n      <td>2020-02-27</td>\n      <td>1.0</td>\n      <td>0.0</td>\n      <td>NaN</td>\n      <td>NaN</td>\n      <td>NaN</td>\n      <td>NaN</td>\n      <td>...</td>\n      <td>1803.987</td>\n      <td>NaN</td>\n      <td>597.029</td>\n      <td>9.59</td>\n      <td>NaN</td>\n      <td>NaN</td>\n      <td>37.746</td>\n      <td>0.5</td>\n      <td>64.83</td>\n      <td>0.511</td>\n    </tr>\n    <tr>\n      <th>4</th>\n      <td>AFG</td>\n      <td>Asia</td>\n      <td>Afghanistan</td>\n      <td>2020-02-28</td>\n      <td>1.0</td>\n      <td>0.0</td>\n      <td>NaN</td>\n      <td>NaN</td>\n      <td>NaN</td>\n      <td>NaN</td>\n      <td>...</td>\n      <td>1803.987</td>\n      <td>NaN</td>\n      <td>597.029</td>\n      <td>9.59</td>\n      <td>NaN</td>\n      <td>NaN</td>\n      <td>37.746</td>\n      <td>0.5</td>\n      <td>64.83</td>\n      <td>0.511</td>\n    </tr>\n  </tbody>\n</table>\n<p>5 rows × 59 columns</p>\n</div>"
     },
     "metadata": {},
     "execution_count": 2
    }
   ],
   "source": [
    "#import dependecies\n",
    "import pandas as pd\n",
    "\n",
    "#read in dataset\n",
    "covid_df= pd.read_csv('owid-covid-data.csv')\n",
    "covid_df.head()"
   ]
  },
  {
   "cell_type": "code",
   "execution_count": 2,
   "metadata": {},
   "outputs": [
    {
     "output_type": "execute_result",
     "data": {
      "text/plain": [
       "  iso_code continent     location        date  total_cases  new_cases  \\\n",
       "0      AFG      Asia  Afghanistan  2020-02-24          1.0        1.0   \n",
       "1      AFG      Asia  Afghanistan  2020-02-25          1.0        0.0   \n",
       "2      AFG      Asia  Afghanistan  2020-02-26          1.0        0.0   \n",
       "3      AFG      Asia  Afghanistan  2020-02-27          1.0        0.0   \n",
       "4      AFG      Asia  Afghanistan  2020-02-28          1.0        0.0   \n",
       "\n",
       "   new_cases_smoothed  total_deaths  new_deaths  new_deaths_smoothed  ...  \\\n",
       "0                 NaN           NaN         NaN                  NaN  ...   \n",
       "1                 NaN           NaN         NaN                  NaN  ...   \n",
       "2                 NaN           NaN         NaN                  NaN  ...   \n",
       "3                 NaN           NaN         NaN                  NaN  ...   \n",
       "4                 NaN           NaN         NaN                  NaN  ...   \n",
       "\n",
       "   gdp_per_capita  extreme_poverty  cardiovasc_death_rate  \\\n",
       "0        1803.987              NaN                597.029   \n",
       "1        1803.987              NaN                597.029   \n",
       "2        1803.987              NaN                597.029   \n",
       "3        1803.987              NaN                597.029   \n",
       "4        1803.987              NaN                597.029   \n",
       "\n",
       "   diabetes_prevalence  female_smokers  male_smokers  handwashing_facilities  \\\n",
       "0                 9.59             NaN           NaN                  37.746   \n",
       "1                 9.59             NaN           NaN                  37.746   \n",
       "2                 9.59             NaN           NaN                  37.746   \n",
       "3                 9.59             NaN           NaN                  37.746   \n",
       "4                 9.59             NaN           NaN                  37.746   \n",
       "\n",
       "   hospital_beds_per_thousand  life_expectancy  human_development_index  \n",
       "0                         0.5            64.83                    0.511  \n",
       "1                         0.5            64.83                    0.511  \n",
       "2                         0.5            64.83                    0.511  \n",
       "3                         0.5            64.83                    0.511  \n",
       "4                         0.5            64.83                    0.511  \n",
       "\n",
       "[5 rows x 59 columns]"
      ],
      "text/html": "<div>\n<style scoped>\n    .dataframe tbody tr th:only-of-type {\n        vertical-align: middle;\n    }\n\n    .dataframe tbody tr th {\n        vertical-align: top;\n    }\n\n    .dataframe thead th {\n        text-align: right;\n    }\n</style>\n<table border=\"1\" class=\"dataframe\">\n  <thead>\n    <tr style=\"text-align: right;\">\n      <th></th>\n      <th>iso_code</th>\n      <th>continent</th>\n      <th>location</th>\n      <th>date</th>\n      <th>total_cases</th>\n      <th>new_cases</th>\n      <th>new_cases_smoothed</th>\n      <th>total_deaths</th>\n      <th>new_deaths</th>\n      <th>new_deaths_smoothed</th>\n      <th>...</th>\n      <th>gdp_per_capita</th>\n      <th>extreme_poverty</th>\n      <th>cardiovasc_death_rate</th>\n      <th>diabetes_prevalence</th>\n      <th>female_smokers</th>\n      <th>male_smokers</th>\n      <th>handwashing_facilities</th>\n      <th>hospital_beds_per_thousand</th>\n      <th>life_expectancy</th>\n      <th>human_development_index</th>\n    </tr>\n  </thead>\n  <tbody>\n    <tr>\n      <th>0</th>\n      <td>AFG</td>\n      <td>Asia</td>\n      <td>Afghanistan</td>\n      <td>2020-02-24</td>\n      <td>1.0</td>\n      <td>1.0</td>\n      <td>NaN</td>\n      <td>NaN</td>\n      <td>NaN</td>\n      <td>NaN</td>\n      <td>...</td>\n      <td>1803.987</td>\n      <td>NaN</td>\n      <td>597.029</td>\n      <td>9.59</td>\n      <td>NaN</td>\n      <td>NaN</td>\n      <td>37.746</td>\n      <td>0.5</td>\n      <td>64.83</td>\n      <td>0.511</td>\n    </tr>\n    <tr>\n      <th>1</th>\n      <td>AFG</td>\n      <td>Asia</td>\n      <td>Afghanistan</td>\n      <td>2020-02-25</td>\n      <td>1.0</td>\n      <td>0.0</td>\n      <td>NaN</td>\n      <td>NaN</td>\n      <td>NaN</td>\n      <td>NaN</td>\n      <td>...</td>\n      <td>1803.987</td>\n      <td>NaN</td>\n      <td>597.029</td>\n      <td>9.59</td>\n      <td>NaN</td>\n      <td>NaN</td>\n      <td>37.746</td>\n      <td>0.5</td>\n      <td>64.83</td>\n      <td>0.511</td>\n    </tr>\n    <tr>\n      <th>2</th>\n      <td>AFG</td>\n      <td>Asia</td>\n      <td>Afghanistan</td>\n      <td>2020-02-26</td>\n      <td>1.0</td>\n      <td>0.0</td>\n      <td>NaN</td>\n      <td>NaN</td>\n      <td>NaN</td>\n      <td>NaN</td>\n      <td>...</td>\n      <td>1803.987</td>\n      <td>NaN</td>\n      <td>597.029</td>\n      <td>9.59</td>\n      <td>NaN</td>\n      <td>NaN</td>\n      <td>37.746</td>\n      <td>0.5</td>\n      <td>64.83</td>\n      <td>0.511</td>\n    </tr>\n    <tr>\n      <th>3</th>\n      <td>AFG</td>\n      <td>Asia</td>\n      <td>Afghanistan</td>\n      <td>2020-02-27</td>\n      <td>1.0</td>\n      <td>0.0</td>\n      <td>NaN</td>\n      <td>NaN</td>\n      <td>NaN</td>\n      <td>NaN</td>\n      <td>...</td>\n      <td>1803.987</td>\n      <td>NaN</td>\n      <td>597.029</td>\n      <td>9.59</td>\n      <td>NaN</td>\n      <td>NaN</td>\n      <td>37.746</td>\n      <td>0.5</td>\n      <td>64.83</td>\n      <td>0.511</td>\n    </tr>\n    <tr>\n      <th>4</th>\n      <td>AFG</td>\n      <td>Asia</td>\n      <td>Afghanistan</td>\n      <td>2020-02-28</td>\n      <td>1.0</td>\n      <td>0.0</td>\n      <td>NaN</td>\n      <td>NaN</td>\n      <td>NaN</td>\n      <td>NaN</td>\n      <td>...</td>\n      <td>1803.987</td>\n      <td>NaN</td>\n      <td>597.029</td>\n      <td>9.59</td>\n      <td>NaN</td>\n      <td>NaN</td>\n      <td>37.746</td>\n      <td>0.5</td>\n      <td>64.83</td>\n      <td>0.511</td>\n    </tr>\n  </tbody>\n</table>\n<p>5 rows × 59 columns</p>\n</div>"
     },
     "metadata": {},
     "execution_count": 2
    }
   ],
   "source": []
  },
  {
   "cell_type": "code",
   "execution_count": 3,
   "metadata": {},
   "outputs": [],
   "source": [
    "#list all columns to decide which will be kept\n",
    "covid_df.columns.tolist()\n",
    "\n",
    "#columns kept\n",
    "covid_filtered_df= covid_df[['location', 'date', 'people_vaccinated', 'people_fully_vaccinated', 'population', 'population_density', 'gdp_per_capita']]"
   ]
  },
  {
   "cell_type": "code",
   "execution_count": 4,
   "metadata": {},
   "outputs": [
    {
     "output_type": "stream",
     "name": "stderr",
     "text": [
      "C:\\Users\\Owner\\anaconda3\\envs\\PythonData\\lib\\site-packages\\ipykernel_launcher.py:2: SettingWithCopyWarning: \nA value is trying to be set on a copy of a slice from a DataFrame\n\nSee the caveats in the documentation: https://pandas.pydata.org/pandas-docs/stable/user_guide/indexing.html#returning-a-view-versus-a-copy\n  \n"
     ]
    }
   ],
   "source": [
    "#drop all empty cells\n",
    "covid_filtered_df.dropna(inplace=True)"
   ]
  },
  {
   "cell_type": "code",
   "execution_count": 5,
   "metadata": {},
   "outputs": [
    {
     "output_type": "execute_result",
     "data": {
      "text/plain": [
       "       location        date  people_vaccinated  people_fully_vaccinated  \\\n",
       "1250    Albania  2021-02-02              549.0                      1.0   \n",
       "1257    Albania  2021-02-09              689.0                    438.0   \n",
       "1265    Albania  2021-02-17             1090.0                    611.0   \n",
       "1266    Albania  2021-02-18             2438.0                    611.0   \n",
       "1270    Albania  2021-02-22             6073.0                    655.0   \n",
       "...         ...         ...                ...                      ...   \n",
       "89138  Zimbabwe  2021-05-12           549797.0                 180568.0   \n",
       "89139  Zimbabwe  2021-05-13           559875.0                 192145.0   \n",
       "89140  Zimbabwe  2021-05-14           571460.0                 203781.0   \n",
       "89141  Zimbabwe  2021-05-15           579769.0                 213542.0   \n",
       "89142  Zimbabwe  2021-05-16           581615.0                 215332.0   \n",
       "\n",
       "       population  population_density  gdp_per_capita  \n",
       "1250    2877800.0             104.871       11803.431  \n",
       "1257    2877800.0             104.871       11803.431  \n",
       "1265    2877800.0             104.871       11803.431  \n",
       "1266    2877800.0             104.871       11803.431  \n",
       "1270    2877800.0             104.871       11803.431  \n",
       "...           ...                 ...             ...  \n",
       "89138  14862927.0              42.729        1899.775  \n",
       "89139  14862927.0              42.729        1899.775  \n",
       "89140  14862927.0              42.729        1899.775  \n",
       "89141  14862927.0              42.729        1899.775  \n",
       "89142  14862927.0              42.729        1899.775  \n",
       "\n",
       "[6617 rows x 7 columns]"
      ],
      "text/html": "<div>\n<style scoped>\n    .dataframe tbody tr th:only-of-type {\n        vertical-align: middle;\n    }\n\n    .dataframe tbody tr th {\n        vertical-align: top;\n    }\n\n    .dataframe thead th {\n        text-align: right;\n    }\n</style>\n<table border=\"1\" class=\"dataframe\">\n  <thead>\n    <tr style=\"text-align: right;\">\n      <th></th>\n      <th>location</th>\n      <th>date</th>\n      <th>people_vaccinated</th>\n      <th>people_fully_vaccinated</th>\n      <th>population</th>\n      <th>population_density</th>\n      <th>gdp_per_capita</th>\n    </tr>\n  </thead>\n  <tbody>\n    <tr>\n      <th>1250</th>\n      <td>Albania</td>\n      <td>2021-02-02</td>\n      <td>549.0</td>\n      <td>1.0</td>\n      <td>2877800.0</td>\n      <td>104.871</td>\n      <td>11803.431</td>\n    </tr>\n    <tr>\n      <th>1257</th>\n      <td>Albania</td>\n      <td>2021-02-09</td>\n      <td>689.0</td>\n      <td>438.0</td>\n      <td>2877800.0</td>\n      <td>104.871</td>\n      <td>11803.431</td>\n    </tr>\n    <tr>\n      <th>1265</th>\n      <td>Albania</td>\n      <td>2021-02-17</td>\n      <td>1090.0</td>\n      <td>611.0</td>\n      <td>2877800.0</td>\n      <td>104.871</td>\n      <td>11803.431</td>\n    </tr>\n    <tr>\n      <th>1266</th>\n      <td>Albania</td>\n      <td>2021-02-18</td>\n      <td>2438.0</td>\n      <td>611.0</td>\n      <td>2877800.0</td>\n      <td>104.871</td>\n      <td>11803.431</td>\n    </tr>\n    <tr>\n      <th>1270</th>\n      <td>Albania</td>\n      <td>2021-02-22</td>\n      <td>6073.0</td>\n      <td>655.0</td>\n      <td>2877800.0</td>\n      <td>104.871</td>\n      <td>11803.431</td>\n    </tr>\n    <tr>\n      <th>...</th>\n      <td>...</td>\n      <td>...</td>\n      <td>...</td>\n      <td>...</td>\n      <td>...</td>\n      <td>...</td>\n      <td>...</td>\n    </tr>\n    <tr>\n      <th>89138</th>\n      <td>Zimbabwe</td>\n      <td>2021-05-12</td>\n      <td>549797.0</td>\n      <td>180568.0</td>\n      <td>14862927.0</td>\n      <td>42.729</td>\n      <td>1899.775</td>\n    </tr>\n    <tr>\n      <th>89139</th>\n      <td>Zimbabwe</td>\n      <td>2021-05-13</td>\n      <td>559875.0</td>\n      <td>192145.0</td>\n      <td>14862927.0</td>\n      <td>42.729</td>\n      <td>1899.775</td>\n    </tr>\n    <tr>\n      <th>89140</th>\n      <td>Zimbabwe</td>\n      <td>2021-05-14</td>\n      <td>571460.0</td>\n      <td>203781.0</td>\n      <td>14862927.0</td>\n      <td>42.729</td>\n      <td>1899.775</td>\n    </tr>\n    <tr>\n      <th>89141</th>\n      <td>Zimbabwe</td>\n      <td>2021-05-15</td>\n      <td>579769.0</td>\n      <td>213542.0</td>\n      <td>14862927.0</td>\n      <td>42.729</td>\n      <td>1899.775</td>\n    </tr>\n    <tr>\n      <th>89142</th>\n      <td>Zimbabwe</td>\n      <td>2021-05-16</td>\n      <td>581615.0</td>\n      <td>215332.0</td>\n      <td>14862927.0</td>\n      <td>42.729</td>\n      <td>1899.775</td>\n    </tr>\n  </tbody>\n</table>\n<p>6617 rows × 7 columns</p>\n</div>"
     },
     "metadata": {},
     "execution_count": 5
    }
   ],
   "source": [
    "#drop all countries with one or less entries since cannot make a model out of one entry\n",
    "\n",
    "#find one country with one or less entry\n",
    "covid_19_counts= covid_filtered_df.location.value_counts()\n",
    "\n",
    "\n",
    "#drops single entry countries\n",
    "covid_19_filtered2= covid_filtered_df.location.isin(covid_19_counts[covid_19_counts>1].index)\n",
    "covid_19_filtered2\n",
    "\n",
    "#creates a filtered dataframe after dropping single entry countries\n",
    "covid_filtered_df= covid_filtered_df[covid_19_filtered2]\n",
    "covid_filtered_df"
   ]
  },
  {
   "cell_type": "code",
   "execution_count": 8,
   "metadata": {},
   "outputs": [
    {
     "output_type": "execute_result",
     "data": {
      "text/plain": [
       "       location        date  people_vaccinated  people_fully_vaccinated  \\\n",
       "1250    Albania  2021-02-02              549.0                      1.0   \n",
       "1257    Albania  2021-02-09              689.0                    438.0   \n",
       "1265    Albania  2021-02-17             1090.0                    611.0   \n",
       "1266    Albania  2021-02-18             2438.0                    611.0   \n",
       "1270    Albania  2021-02-22             6073.0                    655.0   \n",
       "...         ...         ...                ...                      ...   \n",
       "89138  Zimbabwe  2021-05-12           549797.0                 180568.0   \n",
       "89139  Zimbabwe  2021-05-13           559875.0                 192145.0   \n",
       "89140  Zimbabwe  2021-05-14           571460.0                 203781.0   \n",
       "89141  Zimbabwe  2021-05-15           579769.0                 213542.0   \n",
       "89142  Zimbabwe  2021-05-16           581615.0                 215332.0   \n",
       "\n",
       "       population  population_density  gdp_per_capita  \n",
       "1250    2877800.0             104.871       11803.431  \n",
       "1257    2877800.0             104.871       11803.431  \n",
       "1265    2877800.0             104.871       11803.431  \n",
       "1266    2877800.0             104.871       11803.431  \n",
       "1270    2877800.0             104.871       11803.431  \n",
       "...           ...                 ...             ...  \n",
       "89138  14862927.0              42.729        1899.775  \n",
       "89139  14862927.0              42.729        1899.775  \n",
       "89140  14862927.0              42.729        1899.775  \n",
       "89141  14862927.0              42.729        1899.775  \n",
       "89142  14862927.0              42.729        1899.775  \n",
       "\n",
       "[6617 rows x 7 columns]"
      ],
      "text/html": "<div>\n<style scoped>\n    .dataframe tbody tr th:only-of-type {\n        vertical-align: middle;\n    }\n\n    .dataframe tbody tr th {\n        vertical-align: top;\n    }\n\n    .dataframe thead th {\n        text-align: right;\n    }\n</style>\n<table border=\"1\" class=\"dataframe\">\n  <thead>\n    <tr style=\"text-align: right;\">\n      <th></th>\n      <th>location</th>\n      <th>date</th>\n      <th>people_vaccinated</th>\n      <th>people_fully_vaccinated</th>\n      <th>population</th>\n      <th>population_density</th>\n      <th>gdp_per_capita</th>\n    </tr>\n  </thead>\n  <tbody>\n    <tr>\n      <th>1250</th>\n      <td>Albania</td>\n      <td>2021-02-02</td>\n      <td>549.0</td>\n      <td>1.0</td>\n      <td>2877800.0</td>\n      <td>104.871</td>\n      <td>11803.431</td>\n    </tr>\n    <tr>\n      <th>1257</th>\n      <td>Albania</td>\n      <td>2021-02-09</td>\n      <td>689.0</td>\n      <td>438.0</td>\n      <td>2877800.0</td>\n      <td>104.871</td>\n      <td>11803.431</td>\n    </tr>\n    <tr>\n      <th>1265</th>\n      <td>Albania</td>\n      <td>2021-02-17</td>\n      <td>1090.0</td>\n      <td>611.0</td>\n      <td>2877800.0</td>\n      <td>104.871</td>\n      <td>11803.431</td>\n    </tr>\n    <tr>\n      <th>1266</th>\n      <td>Albania</td>\n      <td>2021-02-18</td>\n      <td>2438.0</td>\n      <td>611.0</td>\n      <td>2877800.0</td>\n      <td>104.871</td>\n      <td>11803.431</td>\n    </tr>\n    <tr>\n      <th>1270</th>\n      <td>Albania</td>\n      <td>2021-02-22</td>\n      <td>6073.0</td>\n      <td>655.0</td>\n      <td>2877800.0</td>\n      <td>104.871</td>\n      <td>11803.431</td>\n    </tr>\n    <tr>\n      <th>...</th>\n      <td>...</td>\n      <td>...</td>\n      <td>...</td>\n      <td>...</td>\n      <td>...</td>\n      <td>...</td>\n      <td>...</td>\n    </tr>\n    <tr>\n      <th>89138</th>\n      <td>Zimbabwe</td>\n      <td>2021-05-12</td>\n      <td>549797.0</td>\n      <td>180568.0</td>\n      <td>14862927.0</td>\n      <td>42.729</td>\n      <td>1899.775</td>\n    </tr>\n    <tr>\n      <th>89139</th>\n      <td>Zimbabwe</td>\n      <td>2021-05-13</td>\n      <td>559875.0</td>\n      <td>192145.0</td>\n      <td>14862927.0</td>\n      <td>42.729</td>\n      <td>1899.775</td>\n    </tr>\n    <tr>\n      <th>89140</th>\n      <td>Zimbabwe</td>\n      <td>2021-05-14</td>\n      <td>571460.0</td>\n      <td>203781.0</td>\n      <td>14862927.0</td>\n      <td>42.729</td>\n      <td>1899.775</td>\n    </tr>\n    <tr>\n      <th>89141</th>\n      <td>Zimbabwe</td>\n      <td>2021-05-15</td>\n      <td>579769.0</td>\n      <td>213542.0</td>\n      <td>14862927.0</td>\n      <td>42.729</td>\n      <td>1899.775</td>\n    </tr>\n    <tr>\n      <th>89142</th>\n      <td>Zimbabwe</td>\n      <td>2021-05-16</td>\n      <td>581615.0</td>\n      <td>215332.0</td>\n      <td>14862927.0</td>\n      <td>42.729</td>\n      <td>1899.775</td>\n    </tr>\n  </tbody>\n</table>\n<p>6617 rows × 7 columns</p>\n</div>"
     },
     "metadata": {},
     "execution_count": 8
    }
   ],
   "source": []
  },
  {
   "cell_type": "code",
   "execution_count": 6,
   "metadata": {},
   "outputs": [
    {
     "output_type": "execute_result",
     "data": {
      "text/plain": [
       "       location        date  people_vaccinated  people_fully_vaccinated  \\\n",
       "1250    Albania  2021-02-02              549.0                      1.0   \n",
       "1257    Albania  2021-02-09              689.0                    438.0   \n",
       "1265    Albania  2021-02-17             1090.0                    611.0   \n",
       "1266    Albania  2021-02-18             2438.0                    611.0   \n",
       "1270    Albania  2021-02-22             6073.0                    655.0   \n",
       "...         ...         ...                ...                      ...   \n",
       "89138  Zimbabwe  2021-05-12           549797.0                 180568.0   \n",
       "89139  Zimbabwe  2021-05-13           559875.0                 192145.0   \n",
       "89140  Zimbabwe  2021-05-14           571460.0                 203781.0   \n",
       "89141  Zimbabwe  2021-05-15           579769.0                 213542.0   \n",
       "89142  Zimbabwe  2021-05-16           581615.0                 215332.0   \n",
       "\n",
       "       population  population_density  gdp_per_capita  \n",
       "1250    2877800.0             104.871       11803.431  \n",
       "1257    2877800.0             104.871       11803.431  \n",
       "1265    2877800.0             104.871       11803.431  \n",
       "1266    2877800.0             104.871       11803.431  \n",
       "1270    2877800.0             104.871       11803.431  \n",
       "...           ...                 ...             ...  \n",
       "89138  14862927.0              42.729        1899.775  \n",
       "89139  14862927.0              42.729        1899.775  \n",
       "89140  14862927.0              42.729        1899.775  \n",
       "89141  14862927.0              42.729        1899.775  \n",
       "89142  14862927.0              42.729        1899.775  \n",
       "\n",
       "[6476 rows x 7 columns]"
      ],
      "text/html": "<div>\n<style scoped>\n    .dataframe tbody tr th:only-of-type {\n        vertical-align: middle;\n    }\n\n    .dataframe tbody tr th {\n        vertical-align: top;\n    }\n\n    .dataframe thead th {\n        text-align: right;\n    }\n</style>\n<table border=\"1\" class=\"dataframe\">\n  <thead>\n    <tr style=\"text-align: right;\">\n      <th></th>\n      <th>location</th>\n      <th>date</th>\n      <th>people_vaccinated</th>\n      <th>people_fully_vaccinated</th>\n      <th>population</th>\n      <th>population_density</th>\n      <th>gdp_per_capita</th>\n    </tr>\n  </thead>\n  <tbody>\n    <tr>\n      <th>1250</th>\n      <td>Albania</td>\n      <td>2021-02-02</td>\n      <td>549.0</td>\n      <td>1.0</td>\n      <td>2877800.0</td>\n      <td>104.871</td>\n      <td>11803.431</td>\n    </tr>\n    <tr>\n      <th>1257</th>\n      <td>Albania</td>\n      <td>2021-02-09</td>\n      <td>689.0</td>\n      <td>438.0</td>\n      <td>2877800.0</td>\n      <td>104.871</td>\n      <td>11803.431</td>\n    </tr>\n    <tr>\n      <th>1265</th>\n      <td>Albania</td>\n      <td>2021-02-17</td>\n      <td>1090.0</td>\n      <td>611.0</td>\n      <td>2877800.0</td>\n      <td>104.871</td>\n      <td>11803.431</td>\n    </tr>\n    <tr>\n      <th>1266</th>\n      <td>Albania</td>\n      <td>2021-02-18</td>\n      <td>2438.0</td>\n      <td>611.0</td>\n      <td>2877800.0</td>\n      <td>104.871</td>\n      <td>11803.431</td>\n    </tr>\n    <tr>\n      <th>1270</th>\n      <td>Albania</td>\n      <td>2021-02-22</td>\n      <td>6073.0</td>\n      <td>655.0</td>\n      <td>2877800.0</td>\n      <td>104.871</td>\n      <td>11803.431</td>\n    </tr>\n    <tr>\n      <th>...</th>\n      <td>...</td>\n      <td>...</td>\n      <td>...</td>\n      <td>...</td>\n      <td>...</td>\n      <td>...</td>\n      <td>...</td>\n    </tr>\n    <tr>\n      <th>89138</th>\n      <td>Zimbabwe</td>\n      <td>2021-05-12</td>\n      <td>549797.0</td>\n      <td>180568.0</td>\n      <td>14862927.0</td>\n      <td>42.729</td>\n      <td>1899.775</td>\n    </tr>\n    <tr>\n      <th>89139</th>\n      <td>Zimbabwe</td>\n      <td>2021-05-13</td>\n      <td>559875.0</td>\n      <td>192145.0</td>\n      <td>14862927.0</td>\n      <td>42.729</td>\n      <td>1899.775</td>\n    </tr>\n    <tr>\n      <th>89140</th>\n      <td>Zimbabwe</td>\n      <td>2021-05-14</td>\n      <td>571460.0</td>\n      <td>203781.0</td>\n      <td>14862927.0</td>\n      <td>42.729</td>\n      <td>1899.775</td>\n    </tr>\n    <tr>\n      <th>89141</th>\n      <td>Zimbabwe</td>\n      <td>2021-05-15</td>\n      <td>579769.0</td>\n      <td>213542.0</td>\n      <td>14862927.0</td>\n      <td>42.729</td>\n      <td>1899.775</td>\n    </tr>\n    <tr>\n      <th>89142</th>\n      <td>Zimbabwe</td>\n      <td>2021-05-16</td>\n      <td>581615.0</td>\n      <td>215332.0</td>\n      <td>14862927.0</td>\n      <td>42.729</td>\n      <td>1899.775</td>\n    </tr>\n  </tbody>\n</table>\n<p>6476 rows × 7 columns</p>\n</div>"
     },
     "metadata": {},
     "execution_count": 6
    }
   ],
   "source": [
    "#checks for any continent aggregations \n",
    "covid_filtered_df['location'].unique().tolist()\n",
    "\n",
    "#drops aggregations from the dataframe\n",
    "covid_filtered_df= covid_filtered_df[covid_filtered_df.location != 'World']\n",
    "covid_filtered_df"
   ]
  },
  {
   "cell_type": "code",
   "execution_count": 7,
   "metadata": {},
   "outputs": [
    {
     "output_type": "execute_result",
     "data": {
      "text/plain": [
       "            location        date  people_vaccinated  people_fully_vaccinated  \\\n",
       "40042         Israel  2021-01-04          1434129.0                      2.0   \n",
       "40043         Israel  2021-01-05          1558973.0                      2.0   \n",
       "40044         Israel  2021-01-06          1662034.0                      2.0   \n",
       "40045         Israel  2021-01-07          1777844.0                      5.0   \n",
       "40046         Israel  2021-01-08          1844132.0                      8.0   \n",
       "...              ...         ...                ...                      ...   \n",
       "84965  United States  2021-05-12        153986312.0              117647439.0   \n",
       "84966  United States  2021-05-13        154624231.0              118987308.0   \n",
       "84967  United States  2021-05-14        155251852.0              120258637.0   \n",
       "84968  United States  2021-05-15        156217367.0              121768268.0   \n",
       "84969  United States  2021-05-16        157485596.0              123282685.0   \n",
       "\n",
       "        population  population_density  gdp_per_capita  \n",
       "40042    8655541.0             402.606       33132.320  \n",
       "40043    8655541.0             402.606       33132.320  \n",
       "40044    8655541.0             402.606       33132.320  \n",
       "40045    8655541.0             402.606       33132.320  \n",
       "40046    8655541.0             402.606       33132.320  \n",
       "...            ...                 ...             ...  \n",
       "84965  331002647.0              35.608       54225.446  \n",
       "84966  331002647.0              35.608       54225.446  \n",
       "84967  331002647.0              35.608       54225.446  \n",
       "84968  331002647.0              35.608       54225.446  \n",
       "84969  331002647.0              35.608       54225.446  \n",
       "\n",
       "[379 rows x 7 columns]"
      ],
      "text/html": "<div>\n<style scoped>\n    .dataframe tbody tr th:only-of-type {\n        vertical-align: middle;\n    }\n\n    .dataframe tbody tr th {\n        vertical-align: top;\n    }\n\n    .dataframe thead th {\n        text-align: right;\n    }\n</style>\n<table border=\"1\" class=\"dataframe\">\n  <thead>\n    <tr style=\"text-align: right;\">\n      <th></th>\n      <th>location</th>\n      <th>date</th>\n      <th>people_vaccinated</th>\n      <th>people_fully_vaccinated</th>\n      <th>population</th>\n      <th>population_density</th>\n      <th>gdp_per_capita</th>\n    </tr>\n  </thead>\n  <tbody>\n    <tr>\n      <th>40042</th>\n      <td>Israel</td>\n      <td>2021-01-04</td>\n      <td>1434129.0</td>\n      <td>2.0</td>\n      <td>8655541.0</td>\n      <td>402.606</td>\n      <td>33132.320</td>\n    </tr>\n    <tr>\n      <th>40043</th>\n      <td>Israel</td>\n      <td>2021-01-05</td>\n      <td>1558973.0</td>\n      <td>2.0</td>\n      <td>8655541.0</td>\n      <td>402.606</td>\n      <td>33132.320</td>\n    </tr>\n    <tr>\n      <th>40044</th>\n      <td>Israel</td>\n      <td>2021-01-06</td>\n      <td>1662034.0</td>\n      <td>2.0</td>\n      <td>8655541.0</td>\n      <td>402.606</td>\n      <td>33132.320</td>\n    </tr>\n    <tr>\n      <th>40045</th>\n      <td>Israel</td>\n      <td>2021-01-07</td>\n      <td>1777844.0</td>\n      <td>5.0</td>\n      <td>8655541.0</td>\n      <td>402.606</td>\n      <td>33132.320</td>\n    </tr>\n    <tr>\n      <th>40046</th>\n      <td>Israel</td>\n      <td>2021-01-08</td>\n      <td>1844132.0</td>\n      <td>8.0</td>\n      <td>8655541.0</td>\n      <td>402.606</td>\n      <td>33132.320</td>\n    </tr>\n    <tr>\n      <th>...</th>\n      <td>...</td>\n      <td>...</td>\n      <td>...</td>\n      <td>...</td>\n      <td>...</td>\n      <td>...</td>\n      <td>...</td>\n    </tr>\n    <tr>\n      <th>84965</th>\n      <td>United States</td>\n      <td>2021-05-12</td>\n      <td>153986312.0</td>\n      <td>117647439.0</td>\n      <td>331002647.0</td>\n      <td>35.608</td>\n      <td>54225.446</td>\n    </tr>\n    <tr>\n      <th>84966</th>\n      <td>United States</td>\n      <td>2021-05-13</td>\n      <td>154624231.0</td>\n      <td>118987308.0</td>\n      <td>331002647.0</td>\n      <td>35.608</td>\n      <td>54225.446</td>\n    </tr>\n    <tr>\n      <th>84967</th>\n      <td>United States</td>\n      <td>2021-05-14</td>\n      <td>155251852.0</td>\n      <td>120258637.0</td>\n      <td>331002647.0</td>\n      <td>35.608</td>\n      <td>54225.446</td>\n    </tr>\n    <tr>\n      <th>84968</th>\n      <td>United States</td>\n      <td>2021-05-15</td>\n      <td>156217367.0</td>\n      <td>121768268.0</td>\n      <td>331002647.0</td>\n      <td>35.608</td>\n      <td>54225.446</td>\n    </tr>\n    <tr>\n      <th>84969</th>\n      <td>United States</td>\n      <td>2021-05-16</td>\n      <td>157485596.0</td>\n      <td>123282685.0</td>\n      <td>331002647.0</td>\n      <td>35.608</td>\n      <td>54225.446</td>\n    </tr>\n  </tbody>\n</table>\n<p>379 rows × 7 columns</p>\n</div>"
     },
     "metadata": {},
     "execution_count": 7
    }
   ],
   "source": [
    "#filters out only the countries needed for the testing and create a final testing dataframe\n",
    "test_countries= ['Israel', 'United Kingdom', 'United States']\n",
    "\n",
    "test_countries_list= covid_filtered_df.location.isin(test_countries)\n",
    "\n",
    "covid_final_test_df= covid_filtered_df[test_countries_list]\n",
    "covid_final_test_df"
   ]
  },
  {
   "cell_type": "code",
   "execution_count": 8,
   "metadata": {},
   "outputs": [],
   "source": [
    "#exporting dataframe to a csv file\n",
    "covid_final_test_df.to_csv('covid_final_test', index= False)"
   ]
  },
  {
   "cell_type": "code",
   "execution_count": null,
   "metadata": {},
   "outputs": [],
   "source": []
  }
 ]
}