{
  "nbformat": 4,
  "nbformat_minor": 0,
  "metadata": {
    "colab": {
      "name": "covid_(2).ipynb",
      "provenance": [],
      "collapsed_sections": [],
      "include_colab_link": true
    },
    "kernelspec": {
      "name": "python3",
      "display_name": "Python 3"
    },
    "language_info": {
      "name": "python"
    }
  },
  "cells": [
    {
      "cell_type": "markdown",
      "metadata": {
        "id": "view-in-github",
        "colab_type": "text"
      },
      "source": [
        "<a href=\"https://colab.research.google.com/github/nasarar/Post_Covid19_Vacation_Projection/blob/Joseph/covid_(2).ipynb\" target=\"_parent\"><img src=\"https://colab.research.google.com/assets/colab-badge.svg\" alt=\"Open In Colab\"/></a>"
      ]
    },
    {
      "cell_type": "code",
      "metadata": {
        "id": "jfSNNtJteBfX"
      },
      "source": [
        "# Seed value\n",
        "# Apparently you may use different seed values at each stage\n",
        "seed_value= 0\n",
        "\n",
        "# 1. Set the `PYTHONHASHSEED` environment variable at a fixed value\n",
        "import os\n",
        "os.environ['PYTHONHASHSEED']=str(seed_value)\n",
        "\n",
        "# 2. Set the `python` built-in pseudo-random generator at a fixed value\n",
        "import random\n",
        "random.seed(seed_value)\n",
        "\n",
        "# 3. Set the `numpy` pseudo-random generator at a fixed value\n",
        "import numpy as np\n",
        "np.random.seed(seed_value)\n",
        "\n",
        "# 4. Set the `tensorflow` pseudo-random generator at a fixed value\n",
        "import tensorflow as tf\n",
        "tf.random.set_seed(seed_value)\n",
        "# for later versions: \n",
        "# tf.compat.v1.set_random_seed(seed_value)\n",
        "\n",
        "# 5. Configure a new global `tensorflow` session\n",
        "from keras import backend as K\n",
        "session_conf = tf.compat.v1.ConfigProto(intra_op_parallelism_threads=1, inter_op_parallelism_threads=1)\n",
        "sess = tf.compat.v1.Session(graph=tf.compat.v1.get_default_graph(), config=session_conf)\n",
        "tf.compat.v1.keras.backend.set_session(sess)\n",
        "# for later versions:\n",
        "# session_conf = tf.compat.v1.ConfigProto(intra_op_parallelism_threads=1, inter_op_parallelism_threads=1)\n",
        "# sess = tf.compat.v1.Session(graph=tf.compat.v1.get_default_graph(), config=session_conf)\n",
        "# tf.compat.v1.keras.backend.set_session(sess)"
      ],
      "execution_count": 1,
      "outputs": []
    },
    {
      "cell_type": "code",
      "metadata": {
        "id": "mx52-KldeEo7",
        "colab": {
          "base_uri": "https://localhost:8080/"
        },
        "outputId": "926939bd-1c36-42f5-fae7-b2d57523ff36"
      },
      "source": [
        "!gdown --id \"14Tt_SmtnM1OiOtXxcQIs8O2W_aNlAIgR\" -O \"covid.csv\""
      ],
      "execution_count": 2,
      "outputs": [
        {
          "output_type": "stream",
          "text": [
            "Downloading...\n",
            "From: https://drive.google.com/uc?id=14Tt_SmtnM1OiOtXxcQIs8O2W_aNlAIgR\n",
            "To: /content/covid.csv\n",
            "22.8MB [00:00, 139MB/s]\n"
          ],
          "name": "stdout"
        }
      ]
    },
    {
      "cell_type": "code",
      "metadata": {
        "id": "sYlye5qEnqb1"
      },
      "source": [
        "import datetime\n",
        "from dateutil.parser import parse\n",
        "import matplotlib.pyplot as plt\n",
        "import pandas as pd"
      ],
      "execution_count": 3,
      "outputs": []
    },
    {
      "cell_type": "code",
      "metadata": {
        "colab": {
          "base_uri": "https://localhost:8080/"
        },
        "id": "xY-jqRKzeHZi",
        "outputId": "e10a8a23-cdbc-4017-c696-82ede2df901f"
      },
      "source": [
        "df = pd.read_csv('/content/covid.csv')\n",
        "df.location"
      ],
      "execution_count": 4,
      "outputs": [
        {
          "output_type": "execute_result",
          "data": {
            "text/plain": [
              "0        Afghanistan\n",
              "1        Afghanistan\n",
              "2        Afghanistan\n",
              "3        Afghanistan\n",
              "4        Afghanistan\n",
              "            ...     \n",
              "87945       Zimbabwe\n",
              "87946       Zimbabwe\n",
              "87947       Zimbabwe\n",
              "87948       Zimbabwe\n",
              "87949       Zimbabwe\n",
              "Name: location, Length: 87950, dtype: object"
            ]
          },
          "metadata": {
            "tags": []
          },
          "execution_count": 4
        }
      ]
    },
    {
      "cell_type": "code",
      "metadata": {
        "colab": {
          "base_uri": "https://localhost:8080/"
        },
        "id": "YnVeHfV6K9pr",
        "outputId": "66ea8677-f07e-4e64-83ff-45297cf080df"
      },
      "source": [
        "country_list = df.iso_code.value_counts().keys()\n",
        "country_list"
      ],
      "execution_count": null,
      "outputs": [
        {
          "output_type": "execute_result",
          "data": {
            "text/plain": [
              "Index(['MEX', 'ARG', 'THA', 'PER', 'TWN', 'KOR', 'USA', 'JPN', 'OWID_NAM',\n",
              "       'CHN',\n",
              "       ...\n",
              "       'MSR', 'FLK', 'SHN', 'WLF', 'JEY', 'ABW', 'CUW', 'NRU', 'TON', 'TUV'],\n",
              "      dtype='object', length=223)"
            ]
          },
          "metadata": {
            "tags": []
          },
          "execution_count": 5
        }
      ]
    },
    {
      "cell_type": "code",
      "metadata": {
        "colab": {
          "base_uri": "https://localhost:8080/"
        },
        "id": "IqDy-ii7f2qW",
        "outputId": "67c2ac88-774f-480d-8b36-1e1c86282271"
      },
      "source": [
        "country_list = [\"ISR\"]\n",
        "for country in country_list:\n",
        "  df1 = df[df.iso_code==country].copy()\n",
        "  df1.reset_index(inplace=True)\n",
        "  start = 0\n",
        "  for i in range(len(df1.total_vaccinations_per_hundred)):\n",
        "    if df1.total_vaccinations_per_hundred[i] >0:\n",
        "      start = i\n",
        "      break\n",
        "  df1.total_vaccinations_per_hundred.fillna(inplace= True,method='backfill')\n",
        "  data = np.array(df1['total_vaccinations_per_hundred'][start:-1])\n",
        "  # print(len(data))\n",
        "  #data prep\n",
        "  frame = 1\n",
        "  y = []\n",
        "  x = []\n",
        "  for i in range(len(data)-frame):\n",
        "    x.append(data[i:i+frame])\n",
        "    y.append(data[i + frame])\n",
        "\n",
        "  test_size = 1\n",
        "  x = np.array(x)\n",
        "  x = np.expand_dims(x,-1)\n",
        "  y = np.array(y)\n",
        "\n",
        "  #model definition train and fit\n",
        "  model = tf.keras.Sequential()\n",
        "  model.add(tf.keras.Input(shape=(x.shape[1],1,)))\n",
        "  # model.add(tf.keras.layers.Dense(64,activation='relu'))\n",
        "  model.add(tf.keras.layers.LSTM(32,activation='relu'))\n",
        "  # model.add(tf.keras.layers.LSTM(16,activation='relu'))\n",
        "  model.add(tf.keras.layers.Dense(1,activation='relu'))\n",
        "  model.compile(optimizer='adam',loss = tf.keras.losses.MeanSquaredError())\n",
        "  history = model.fit(x[:-test_size],y[:-test_size],epochs=15,verbose=1,batch_size=4,validation_data=(x[-test_size:],y[-test_size:]))\n",
        "  datetime.datetime.now() + datetime.timedelta(days=1)\n",
        "  d = list(df1.date[start+frame:-1])\n",
        "  for i in range((12*30)):\n",
        "    # print(list(df1.date[:-1]))\n",
        "    date = parse(d[-1]) + datetime.timedelta(days=1)\n",
        "    \n",
        "    # print(str(date).split()[0])\n",
        "    x_pred = y[-frame:]\n",
        "    x_pred = np.expand_dims(x_pred,0)\n",
        "    x_pred = np.expand_dims(x_pred,-1)\n",
        "    # print(y[-frame:],x_pred,x_pred.shape)\n",
        "    y_pred = model.predict(x_pred)\n",
        "    y_pred = np.round(y_pred,2)\n",
        "    if y_pred>100:\n",
        "      break\n",
        "    y = np.append(y,y_pred)\n",
        "    d.append(str(date).split()[0])\n",
        "  dfp = pd.DataFrame()\n",
        "  dfp['date'] = d\n",
        "  dfp['total_vaccinations_per_hundred'] = y\n",
        "  dfp.to_csv(f'{country}_predictions.csv')\n",
        "\n",
        "  # plt.plot(y)\n"
      ],
      "execution_count": null,
      "outputs": [
        {
          "output_type": "stream",
          "text": [
            "Epoch 1/15\n",
            "36/36 [==============================] - 1s 10ms/step - loss: 7545.1704 - val_loss: 11870.4775\n",
            "Epoch 2/15\n",
            "36/36 [==============================] - 0s 3ms/step - loss: 6569.8468 - val_loss: 8682.8184\n",
            "Epoch 3/15\n",
            "36/36 [==============================] - 0s 3ms/step - loss: 3971.1485 - val_loss: 3467.2261\n",
            "Epoch 4/15\n",
            "36/36 [==============================] - 0s 3ms/step - loss: 1253.1825 - val_loss: 5.8982\n",
            "Epoch 5/15\n",
            "36/36 [==============================] - 0s 3ms/step - loss: 12.1012 - val_loss: 0.9254\n",
            "Epoch 6/15\n",
            "36/36 [==============================] - 0s 3ms/step - loss: 7.9333 - val_loss: 1.5311\n",
            "Epoch 7/15\n",
            "36/36 [==============================] - 0s 3ms/step - loss: 7.6726 - val_loss: 0.8043\n",
            "Epoch 8/15\n",
            "36/36 [==============================] - 0s 3ms/step - loss: 5.0807 - val_loss: 0.4315\n",
            "Epoch 9/15\n",
            "36/36 [==============================] - 0s 3ms/step - loss: 5.1850 - val_loss: 0.7381\n",
            "Epoch 10/15\n",
            "36/36 [==============================] - 0s 3ms/step - loss: 3.7517 - val_loss: 0.2334\n",
            "Epoch 11/15\n",
            "36/36 [==============================] - 0s 3ms/step - loss: 3.2054 - val_loss: 0.1374\n",
            "Epoch 12/15\n",
            "36/36 [==============================] - 0s 3ms/step - loss: 2.0927 - val_loss: 0.1426\n",
            "Epoch 13/15\n",
            "36/36 [==============================] - 0s 3ms/step - loss: 1.8337 - val_loss: 0.0425\n",
            "Epoch 14/15\n",
            "36/36 [==============================] - 0s 4ms/step - loss: 1.5751 - val_loss: 0.0206\n",
            "Epoch 15/15\n",
            "36/36 [==============================] - 0s 3ms/step - loss: 0.9141 - val_loss: 0.0011\n"
          ],
          "name": "stdout"
        }
      ]
    },
    {
      "cell_type": "code",
      "metadata": {
        "id": "YAWLaPP5-2yh",
        "colab": {
          "base_uri": "https://localhost:8080/",
          "height": 419
        },
        "outputId": "9886f1b6-a147-4210-87f1-22b2ebd7b641"
      },
      "source": [
        "dfp"
      ],
      "execution_count": null,
      "outputs": [
        {
          "output_type": "execute_result",
          "data": {
            "text/html": [
              "<div>\n",
              "<style scoped>\n",
              "    .dataframe tbody tr th:only-of-type {\n",
              "        vertical-align: middle;\n",
              "    }\n",
              "\n",
              "    .dataframe tbody tr th {\n",
              "        vertical-align: top;\n",
              "    }\n",
              "\n",
              "    .dataframe thead th {\n",
              "        text-align: right;\n",
              "    }\n",
              "</style>\n",
              "<table border=\"1\" class=\"dataframe\">\n",
              "  <thead>\n",
              "    <tr style=\"text-align: right;\">\n",
              "      <th></th>\n",
              "      <th>date</th>\n",
              "      <th>total_vaccinations_per_hundred</th>\n",
              "    </tr>\n",
              "  </thead>\n",
              "  <tbody>\n",
              "    <tr>\n",
              "      <th>0</th>\n",
              "      <td>2020-12-21</td>\n",
              "      <td>0.180000</td>\n",
              "    </tr>\n",
              "    <tr>\n",
              "      <th>1</th>\n",
              "      <td>2020-12-22</td>\n",
              "      <td>0.300000</td>\n",
              "    </tr>\n",
              "    <tr>\n",
              "      <th>2</th>\n",
              "      <td>2020-12-23</td>\n",
              "      <td>0.300000</td>\n",
              "    </tr>\n",
              "    <tr>\n",
              "      <th>3</th>\n",
              "      <td>2020-12-24</td>\n",
              "      <td>0.580000</td>\n",
              "    </tr>\n",
              "    <tr>\n",
              "      <th>4</th>\n",
              "      <td>2020-12-25</td>\n",
              "      <td>0.580000</td>\n",
              "    </tr>\n",
              "    <tr>\n",
              "      <th>...</th>\n",
              "      <td>...</td>\n",
              "      <td>...</td>\n",
              "    </tr>\n",
              "    <tr>\n",
              "      <th>146</th>\n",
              "      <td>2021-05-16</td>\n",
              "      <td>88.300003</td>\n",
              "    </tr>\n",
              "    <tr>\n",
              "      <th>147</th>\n",
              "      <td>2021-05-17</td>\n",
              "      <td>90.760002</td>\n",
              "    </tr>\n",
              "    <tr>\n",
              "      <th>148</th>\n",
              "      <td>2021-05-18</td>\n",
              "      <td>93.279999</td>\n",
              "    </tr>\n",
              "    <tr>\n",
              "      <th>149</th>\n",
              "      <td>2021-05-19</td>\n",
              "      <td>95.870003</td>\n",
              "    </tr>\n",
              "    <tr>\n",
              "      <th>150</th>\n",
              "      <td>2021-05-20</td>\n",
              "      <td>98.519997</td>\n",
              "    </tr>\n",
              "  </tbody>\n",
              "</table>\n",
              "<p>151 rows × 2 columns</p>\n",
              "</div>"
            ],
            "text/plain": [
              "           date  total_vaccinations_per_hundred\n",
              "0    2020-12-21                        0.180000\n",
              "1    2020-12-22                        0.300000\n",
              "2    2020-12-23                        0.300000\n",
              "3    2020-12-24                        0.580000\n",
              "4    2020-12-25                        0.580000\n",
              "..          ...                             ...\n",
              "146  2021-05-16                       88.300003\n",
              "147  2021-05-17                       90.760002\n",
              "148  2021-05-18                       93.279999\n",
              "149  2021-05-19                       95.870003\n",
              "150  2021-05-20                       98.519997\n",
              "\n",
              "[151 rows x 2 columns]"
            ]
          },
          "metadata": {
            "tags": []
          },
          "execution_count": 146
        }
      ]
    }
  ]
}