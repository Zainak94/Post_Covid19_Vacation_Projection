{
  "nbformat": 4,
  "nbformat_minor": 0,
  "metadata": {
    "colab": {
      "name": "covid_(2).ipynb",
      "provenance": [],
      "collapsed_sections": [],
      "include_colab_link": true
    },
    "kernelspec": {
      "name": "python3",
      "display_name": "Python 3"
    },
    "language_info": {
      "name": "python"
    }
  },
  "cells": [
    {
      "cell_type": "markdown",
      "metadata": {
        "id": "view-in-github",
        "colab_type": "text"
      },
      "source": [
        "<a href=\"https://colab.research.google.com/github/nasarar/Post_Covid19_Vacation_Projection/blob/Joseph/covid_(2).ipynb\" target=\"_parent\"><img src=\"https://colab.research.google.com/assets/colab-badge.svg\" alt=\"Open In Colab\"/></a>"
      ]
    },
    {
      "cell_type": "code",
      "metadata": {
        "id": "jfSNNtJteBfX"
      },
      "source": [
        "# Seed value\n",
        "# Apparently you may use different seed values at each stage\n",
        "seed_value= 0\n",
        "\n",
        "# 1. Set the `PYTHONHASHSEED` environment variable at a fixed value\n",
        "import os\n",
        "os.environ['PYTHONHASHSEED']=str(seed_value)\n",
        "\n",
        "# 2. Set the `python` built-in pseudo-random generator at a fixed value\n",
        "import random\n",
        "random.seed(seed_value)\n",
        "\n",
        "# 3. Set the `numpy` pseudo-random generator at a fixed value\n",
        "import numpy as np\n",
        "np.random.seed(seed_value)\n",
        "\n",
        "# 4. Set the `tensorflow` pseudo-random generator at a fixed value\n",
        "import tensorflow as tf\n",
        "tf.random.set_seed(seed_value)\n",
        "# for later versions: \n",
        "# tf.compat.v1.set_random_seed(seed_value)\n",
        "\n",
        "# 5. Configure a new global `tensorflow` session\n",
        "from keras import backend as K\n",
        "session_conf = tf.compat.v1.ConfigProto(intra_op_parallelism_threads=1, inter_op_parallelism_threads=1)\n",
        "sess = tf.compat.v1.Session(graph=tf.compat.v1.get_default_graph(), config=session_conf)\n",
        "tf.compat.v1.keras.backend.set_session(sess)\n",
        "# for later versions:\n",
        "# session_conf = tf.compat.v1.ConfigProto(intra_op_parallelism_threads=1, inter_op_parallelism_threads=1)\n",
        "# sess = tf.compat.v1.Session(graph=tf.compat.v1.get_default_graph(), config=session_conf)\n",
        "# tf.compat.v1.keras.backend.set_session(sess)"
      ],
      "execution_count": 10,
      "outputs": []
    },
    {
      "cell_type": "code",
      "metadata": {
        "id": "mx52-KldeEo7",
        "colab": {
          "base_uri": "https://localhost:8080/"
        },
        "outputId": "b8f76f10-53bc-47f9-8ec8-74e7ea999b2b"
      },
      "source": [
        "!gdown --id \"14Tt_SmtnM1OiOtXxcQIs8O2W_aNlAIgR\" -O \"covid.csv\""
      ],
      "execution_count": 11,
      "outputs": [
        {
          "output_type": "stream",
          "text": [
            "Downloading...\n",
            "From: https://drive.google.com/uc?id=14Tt_SmtnM1OiOtXxcQIs8O2W_aNlAIgR\n",
            "To: /content/covid.csv\n",
            "22.8MB [00:00, 107MB/s] \n"
          ],
          "name": "stdout"
        }
      ]
    },
    {
      "cell_type": "code",
      "metadata": {
        "id": "sYlye5qEnqb1"
      },
      "source": [
        "import datetime\n",
        "from dateutil.parser import parse\n",
        "import matplotlib.pyplot as plt\n",
        "import pandas as pd"
      ],
      "execution_count": 12,
      "outputs": []
    },
    {
      "cell_type": "code",
      "metadata": {
        "colab": {
          "base_uri": "https://localhost:8080/"
        },
        "id": "xY-jqRKzeHZi",
        "outputId": "e10a8a23-cdbc-4017-c696-82ede2df901f"
      },
      "source": [
        "df = pd.read_csv('/content/covid.csv')\n",
        "df.location"
      ],
      "execution_count": null,
      "outputs": [
        {
          "output_type": "execute_result",
          "data": {
            "text/plain": [
              "0        Afghanistan\n",
              "1        Afghanistan\n",
              "2        Afghanistan\n",
              "3        Afghanistan\n",
              "4        Afghanistan\n",
              "            ...     \n",
              "87945       Zimbabwe\n",
              "87946       Zimbabwe\n",
              "87947       Zimbabwe\n",
              "87948       Zimbabwe\n",
              "87949       Zimbabwe\n",
              "Name: location, Length: 87950, dtype: object"
            ]
          },
          "metadata": {
            "tags": []
          },
          "execution_count": 4
        }
      ]
    },
    {
      "cell_type": "code",
      "metadata": {
        "colab": {
          "base_uri": "https://localhost:8080/"
        },
        "id": "YnVeHfV6K9pr",
        "outputId": "1c4f4791-b86e-488b-b0f2-a21e8fe3d86d"
      },
      "source": [
        "country_list = df.iso_code.value_counts().keys()\n",
        "country_list"
      ],
      "execution_count": 13,
      "outputs": [
        {
          "output_type": "execute_result",
          "data": {
            "text/plain": [
              "Index(['ARG', 'MEX', 'THA', 'PER', 'TWN', 'KOR', 'USA', 'JPN', 'OWID_NAM',\n",
              "       'CHN',\n",
              "       ...\n",
              "       'MSR', 'FLK', 'SHN', 'WLF', 'JEY', 'CUW', 'ABW', 'NRU', 'TON', 'TUV'],\n",
              "      dtype='object', length=223)"
            ]
          },
          "metadata": {
            "tags": []
          },
          "execution_count": 13
        }
      ]
    },
    {
      "cell_type": "code",
      "metadata": {
        "colab": {
          "base_uri": "https://localhost:8080/"
        },
        "id": "IqDy-ii7f2qW",
        "outputId": "2fa3528a-7c73-4675-f1ab-e296be5d05ac"
      },
      "source": [
        "country_list = [\"USA\",\"ISL\",\"GBR\"]\n",
        "for country in country_list:\n",
        "  df1 = df[df.iso_code==country].copy()\n",
        "  df1.reset_index(inplace=True)\n",
        "  start = 0\n",
        "  for i in range(len(df1.total_vaccinations_per_hundred)):\n",
        "    if df1.total_vaccinations_per_hundred[i] >0:\n",
        "      start = i\n",
        "      break\n",
        "  df1.total_vaccinations_per_hundred.fillna(inplace= True,method='backfill')\n",
        "  data = np.array(df1['total_vaccinations_per_hundred'][start:-1])\n",
        "  # print(len(data))\n",
        "  #data prep\n",
        "  frame = 1\n",
        "  y = []\n",
        "  x = []\n",
        "  for i in range(len(data)-frame):\n",
        "    x.append(data[i:i+frame])\n",
        "    y.append(data[i + frame])\n",
        "\n",
        "  test_size = 1\n",
        "  x = np.array(x)\n",
        "  x = np.expand_dims(x,-1)\n",
        "  y = np.array(y)\n",
        "\n",
        "  #model definition train and fit\n",
        "  model = tf.keras.Sequential()\n",
        "  model.add(tf.keras.Input(shape=(x.shape[1],1,)))\n",
        "  # model.add(tf.keras.layers.Dense(64,activation='relu'))\n",
        "  model.add(tf.keras.layers.LSTM(32,activation='relu'))\n",
        "  # model.add(tf.keras.layers.LSTM(16,activation='relu'))\n",
        "  model.add(tf.keras.layers.Dense(1,activation='relu'))\n",
        "  model.compile(optimizer='adam',loss = tf.keras.losses.MeanSquaredError())\n",
        "  history = model.fit(x[:-test_size],y[:-test_size],epochs=15,verbose=1,batch_size=4,validation_data=(x[-test_size:],y[-test_size:]))\n",
        "  datetime.datetime.now() + datetime.timedelta(days=1)\n",
        "  d = list(df1.date[start+frame:-1])\n",
        "  for i in range((12*30)):\n",
        "    # print(list(df1.date[:-1]))\n",
        "    date = parse(d[-1]) + datetime.timedelta(days=1)\n",
        "    \n",
        "    # print(str(date).split()[0])\n",
        "    x_pred = y[-frame:]\n",
        "    x_pred = np.expand_dims(x_pred,0)\n",
        "    x_pred = np.expand_dims(x_pred,-1)\n",
        "    # print(y[-frame:],x_pred,x_pred.shape)\n",
        "    y_pred = model.predict(x_pred)\n",
        "    y_pred = np.round(y_pred,2)\n",
        "    if y_pred>100:\n",
        "      break\n",
        "    y = np.append(y,y_pred)\n",
        "    d.append(str(date).split()[0])\n",
        "  dfp = pd.DataFrame()\n",
        "  dfp['date'] = d\n",
        "  dfp['total_vaccinations_per_hundred'] = y\n",
        "  dfp.to_csv(f'{country}_predictions.csv')\n",
        "\n",
        "  # plt.plot(y)\n"
      ],
      "execution_count": 14,
      "outputs": [
        {
          "output_type": "stream",
          "text": [
            "Epoch 1/15\n",
            "36/36 [==============================] - 2s 10ms/step - loss: 1399.1140 - val_loss: 4932.6714\n",
            "Epoch 2/15\n",
            "36/36 [==============================] - 0s 3ms/step - loss: 1318.7138 - val_loss: 3242.2507\n",
            "Epoch 3/15\n",
            "36/36 [==============================] - 0s 3ms/step - loss: 589.3804 - val_loss: 287.8058\n",
            "Epoch 4/15\n",
            "36/36 [==============================] - 0s 3ms/step - loss: 47.8840 - val_loss: 42.8655\n",
            "Epoch 5/15\n",
            "36/36 [==============================] - 0s 3ms/step - loss: 7.1647 - val_loss: 7.4585\n",
            "Epoch 6/15\n",
            "36/36 [==============================] - 0s 3ms/step - loss: 5.4165 - val_loss: 9.2153\n",
            "Epoch 7/15\n",
            "36/36 [==============================] - 0s 3ms/step - loss: 4.6153 - val_loss: 9.0834\n",
            "Epoch 8/15\n",
            "36/36 [==============================] - 0s 3ms/step - loss: 4.3194 - val_loss: 7.6124\n",
            "Epoch 9/15\n",
            "36/36 [==============================] - 0s 3ms/step - loss: 3.7653 - val_loss: 7.6570\n",
            "Epoch 10/15\n",
            "36/36 [==============================] - 0s 3ms/step - loss: 3.5020 - val_loss: 6.0155\n",
            "Epoch 11/15\n",
            "36/36 [==============================] - 0s 3ms/step - loss: 2.8114 - val_loss: 6.3438\n",
            "Epoch 12/15\n",
            "36/36 [==============================] - 0s 3ms/step - loss: 2.9723 - val_loss: 5.4994\n",
            "Epoch 13/15\n",
            "36/36 [==============================] - 0s 3ms/step - loss: 2.1583 - val_loss: 3.8114\n",
            "Epoch 14/15\n",
            "36/36 [==============================] - 0s 3ms/step - loss: 2.0797 - val_loss: 2.5188\n",
            "Epoch 15/15\n",
            "36/36 [==============================] - 0s 3ms/step - loss: 1.6295 - val_loss: 4.8977\n",
            "Epoch 1/15\n",
            "33/33 [==============================] - 1s 10ms/step - loss: 366.3034 - val_loss: 2564.6785\n",
            "Epoch 2/15\n",
            "33/33 [==============================] - 0s 3ms/step - loss: 367.0287 - val_loss: 2129.2107\n",
            "Epoch 3/15\n",
            "33/33 [==============================] - 0s 2ms/step - loss: 342.6256 - val_loss: 1246.3197\n",
            "Epoch 4/15\n",
            "33/33 [==============================] - 0s 3ms/step - loss: 128.2444 - val_loss: 182.9062\n",
            "Epoch 5/15\n",
            "33/33 [==============================] - 0s 3ms/step - loss: 29.0589 - val_loss: 19.6561\n",
            "Epoch 6/15\n",
            "33/33 [==============================] - 0s 3ms/step - loss: 5.1978 - val_loss: 43.9598\n",
            "Epoch 7/15\n",
            "33/33 [==============================] - 0s 3ms/step - loss: 3.8594 - val_loss: 37.9446\n",
            "Epoch 8/15\n",
            "33/33 [==============================] - 0s 3ms/step - loss: 4.0231 - val_loss: 29.9853\n",
            "Epoch 9/15\n",
            "33/33 [==============================] - 0s 3ms/step - loss: 3.6551 - val_loss: 33.4425\n",
            "Epoch 10/15\n",
            "33/33 [==============================] - 0s 3ms/step - loss: 3.5284 - val_loss: 25.5574\n",
            "Epoch 11/15\n",
            "33/33 [==============================] - 0s 3ms/step - loss: 2.9713 - val_loss: 27.4739\n",
            "Epoch 12/15\n",
            "33/33 [==============================] - 0s 3ms/step - loss: 3.1372 - val_loss: 24.0802\n",
            "Epoch 13/15\n",
            "33/33 [==============================] - 0s 3ms/step - loss: 2.8606 - val_loss: 25.8483\n",
            "Epoch 14/15\n",
            "33/33 [==============================] - 0s 3ms/step - loss: 2.4320 - val_loss: 22.9693\n",
            "Epoch 15/15\n",
            "33/33 [==============================] - 0s 3ms/step - loss: 2.4316 - val_loss: 15.8869\n",
            "Epoch 1/15\n",
            "32/32 [==============================] - 1s 9ms/step - loss: 1896.0072 - val_loss: 5966.3989\n",
            "Epoch 2/15\n",
            "32/32 [==============================] - 0s 3ms/step - loss: 1817.4487 - val_loss: 5383.5952\n",
            "Epoch 3/15\n",
            "32/32 [==============================] - 0s 4ms/step - loss: 1468.2206 - val_loss: 3106.0850\n",
            "Epoch 4/15\n",
            "32/32 [==============================] - 0s 3ms/step - loss: 731.1035 - val_loss: 397.7155\n",
            "Epoch 5/15\n",
            "32/32 [==============================] - 0s 3ms/step - loss: 115.3703 - val_loss: 16.3543\n",
            "Epoch 6/15\n",
            "32/32 [==============================] - 0s 3ms/step - loss: 12.6207 - val_loss: 2.5245\n",
            "Epoch 7/15\n",
            "32/32 [==============================] - 0s 3ms/step - loss: 4.6101 - val_loss: 6.0989\n",
            "Epoch 8/15\n",
            "32/32 [==============================] - 0s 3ms/step - loss: 4.7392 - val_loss: 5.9334\n",
            "Epoch 9/15\n",
            "32/32 [==============================] - 0s 3ms/step - loss: 4.7738 - val_loss: 5.1717\n",
            "Epoch 10/15\n",
            "32/32 [==============================] - 0s 4ms/step - loss: 3.9870 - val_loss: 4.7942\n",
            "Epoch 11/15\n",
            "32/32 [==============================] - 0s 3ms/step - loss: 3.7921 - val_loss: 4.2840\n",
            "Epoch 12/15\n",
            "32/32 [==============================] - 0s 3ms/step - loss: 3.4485 - val_loss: 4.3176\n",
            "Epoch 13/15\n",
            "32/32 [==============================] - 0s 3ms/step - loss: 3.1081 - val_loss: 3.9817\n",
            "Epoch 14/15\n",
            "32/32 [==============================] - 0s 3ms/step - loss: 3.0060 - val_loss: 2.2419\n",
            "Epoch 15/15\n",
            "32/32 [==============================] - 0s 3ms/step - loss: 2.2968 - val_loss: 1.6260\n"
          ],
          "name": "stdout"
        }
      ]
    },
    {
      "cell_type": "code",
      "metadata": {
        "id": "YAWLaPP5-2yh",
        "colab": {
          "base_uri": "https://localhost:8080/",
          "height": 419
        },
        "outputId": "f794c44a-e0db-4ec5-e841-ba3859252c0b"
      },
      "source": [
        "dfp"
      ],
      "execution_count": 15,
      "outputs": [
        {
          "output_type": "execute_result",
          "data": {
            "text/html": [
              "<div>\n",
              "<style scoped>\n",
              "    .dataframe tbody tr th:only-of-type {\n",
              "        vertical-align: middle;\n",
              "    }\n",
              "\n",
              "    .dataframe tbody tr th {\n",
              "        vertical-align: top;\n",
              "    }\n",
              "\n",
              "    .dataframe thead th {\n",
              "        text-align: right;\n",
              "    }\n",
              "</style>\n",
              "<table border=\"1\" class=\"dataframe\">\n",
              "  <thead>\n",
              "    <tr style=\"text-align: right;\">\n",
              "      <th></th>\n",
              "      <th>date</th>\n",
              "      <th>total_vaccinations_per_hundred</th>\n",
              "    </tr>\n",
              "  </thead>\n",
              "  <tbody>\n",
              "    <tr>\n",
              "      <th>0</th>\n",
              "      <td>2021-01-04</td>\n",
              "      <td>3.940000</td>\n",
              "    </tr>\n",
              "    <tr>\n",
              "      <th>1</th>\n",
              "      <td>2021-01-05</td>\n",
              "      <td>3.940000</td>\n",
              "    </tr>\n",
              "    <tr>\n",
              "      <th>2</th>\n",
              "      <td>2021-01-06</td>\n",
              "      <td>3.940000</td>\n",
              "    </tr>\n",
              "    <tr>\n",
              "      <th>3</th>\n",
              "      <td>2021-01-07</td>\n",
              "      <td>3.940000</td>\n",
              "    </tr>\n",
              "    <tr>\n",
              "      <th>4</th>\n",
              "      <td>2021-01-08</td>\n",
              "      <td>3.940000</td>\n",
              "    </tr>\n",
              "    <tr>\n",
              "      <th>...</th>\n",
              "      <td>...</td>\n",
              "      <td>...</td>\n",
              "    </tr>\n",
              "    <tr>\n",
              "      <th>132</th>\n",
              "      <td>2021-05-16</td>\n",
              "      <td>90.180000</td>\n",
              "    </tr>\n",
              "    <tr>\n",
              "      <th>133</th>\n",
              "      <td>2021-05-17</td>\n",
              "      <td>92.379997</td>\n",
              "    </tr>\n",
              "    <tr>\n",
              "      <th>134</th>\n",
              "      <td>2021-05-18</td>\n",
              "      <td>94.620003</td>\n",
              "    </tr>\n",
              "    <tr>\n",
              "      <th>135</th>\n",
              "      <td>2021-05-19</td>\n",
              "      <td>96.889999</td>\n",
              "    </tr>\n",
              "    <tr>\n",
              "      <th>136</th>\n",
              "      <td>2021-05-20</td>\n",
              "      <td>99.199997</td>\n",
              "    </tr>\n",
              "  </tbody>\n",
              "</table>\n",
              "<p>137 rows × 2 columns</p>\n",
              "</div>"
            ],
            "text/plain": [
              "           date  total_vaccinations_per_hundred\n",
              "0    2021-01-04                        3.940000\n",
              "1    2021-01-05                        3.940000\n",
              "2    2021-01-06                        3.940000\n",
              "3    2021-01-07                        3.940000\n",
              "4    2021-01-08                        3.940000\n",
              "..          ...                             ...\n",
              "132  2021-05-16                       90.180000\n",
              "133  2021-05-17                       92.379997\n",
              "134  2021-05-18                       94.620003\n",
              "135  2021-05-19                       96.889999\n",
              "136  2021-05-20                       99.199997\n",
              "\n",
              "[137 rows x 2 columns]"
            ]
          },
          "metadata": {
            "tags": []
          },
          "execution_count": 15
        }
      ]
    }
  ]
}