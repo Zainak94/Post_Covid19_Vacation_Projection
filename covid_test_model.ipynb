{
 "cells": [
  {
   "cell_type": "code",
   "execution_count": 1,
   "metadata": {},
   "outputs": [],
   "source": [
    "import pandas as pd\n",
    "from pathlib import Path\n",
    "import matplotlib.pyplot as plt\n",
    "from sklearn.linear_model import LinearRegression"
   ]
  },
  {
   "cell_type": "code",
   "execution_count": 3,
   "metadata": {},
   "outputs": [
    {
     "data": {
      "text/html": [
       "<div>\n",
       "<style scoped>\n",
       "    .dataframe tbody tr th:only-of-type {\n",
       "        vertical-align: middle;\n",
       "    }\n",
       "\n",
       "    .dataframe tbody tr th {\n",
       "        vertical-align: top;\n",
       "    }\n",
       "\n",
       "    .dataframe thead th {\n",
       "        text-align: right;\n",
       "    }\n",
       "</style>\n",
       "<table border=\"1\" class=\"dataframe\">\n",
       "  <thead>\n",
       "    <tr style=\"text-align: right;\">\n",
       "      <th></th>\n",
       "      <th>location</th>\n",
       "      <th>date</th>\n",
       "      <th>people_vaccinated</th>\n",
       "      <th>people_fully_vaccinated</th>\n",
       "      <th>population</th>\n",
       "      <th>population_density</th>\n",
       "      <th>gdp_per_capita</th>\n",
       "      <th>vaccination_percentage</th>\n",
       "    </tr>\n",
       "  </thead>\n",
       "  <tbody>\n",
       "    <tr>\n",
       "      <th>0</th>\n",
       "      <td>Israel</td>\n",
       "      <td>2021-01-04</td>\n",
       "      <td>1434129.0</td>\n",
       "      <td>2.0</td>\n",
       "      <td>8655541.0</td>\n",
       "      <td>402.606</td>\n",
       "      <td>33132.32</td>\n",
       "      <td>0.000023</td>\n",
       "    </tr>\n",
       "    <tr>\n",
       "      <th>1</th>\n",
       "      <td>Israel</td>\n",
       "      <td>2021-01-05</td>\n",
       "      <td>1558973.0</td>\n",
       "      <td>2.0</td>\n",
       "      <td>8655541.0</td>\n",
       "      <td>402.606</td>\n",
       "      <td>33132.32</td>\n",
       "      <td>0.000023</td>\n",
       "    </tr>\n",
       "    <tr>\n",
       "      <th>2</th>\n",
       "      <td>Israel</td>\n",
       "      <td>2021-01-06</td>\n",
       "      <td>1662034.0</td>\n",
       "      <td>2.0</td>\n",
       "      <td>8655541.0</td>\n",
       "      <td>402.606</td>\n",
       "      <td>33132.32</td>\n",
       "      <td>0.000023</td>\n",
       "    </tr>\n",
       "    <tr>\n",
       "      <th>3</th>\n",
       "      <td>Israel</td>\n",
       "      <td>2021-01-07</td>\n",
       "      <td>1777844.0</td>\n",
       "      <td>5.0</td>\n",
       "      <td>8655541.0</td>\n",
       "      <td>402.606</td>\n",
       "      <td>33132.32</td>\n",
       "      <td>0.000058</td>\n",
       "    </tr>\n",
       "    <tr>\n",
       "      <th>4</th>\n",
       "      <td>Israel</td>\n",
       "      <td>2021-01-08</td>\n",
       "      <td>1844132.0</td>\n",
       "      <td>8.0</td>\n",
       "      <td>8655541.0</td>\n",
       "      <td>402.606</td>\n",
       "      <td>33132.32</td>\n",
       "      <td>0.000092</td>\n",
       "    </tr>\n",
       "  </tbody>\n",
       "</table>\n",
       "</div>"
      ],
      "text/plain": [
       "  location        date  people_vaccinated  people_fully_vaccinated  \\\n",
       "0   Israel  2021-01-04          1434129.0                      2.0   \n",
       "1   Israel  2021-01-05          1558973.0                      2.0   \n",
       "2   Israel  2021-01-06          1662034.0                      2.0   \n",
       "3   Israel  2021-01-07          1777844.0                      5.0   \n",
       "4   Israel  2021-01-08          1844132.0                      8.0   \n",
       "\n",
       "   population  population_density  gdp_per_capita  vaccination_percentage  \n",
       "0   8655541.0             402.606        33132.32                0.000023  \n",
       "1   8655541.0             402.606        33132.32                0.000023  \n",
       "2   8655541.0             402.606        33132.32                0.000023  \n",
       "3   8655541.0             402.606        33132.32                0.000058  \n",
       "4   8655541.0             402.606        33132.32                0.000092  "
      ]
     },
     "execution_count": 3,
     "metadata": {},
     "output_type": "execute_result"
    }
   ],
   "source": [
    "df = pd.read_csv('covid_test_model_data.csv')\n",
    "df.head()"
   ]
  },
  {
   "cell_type": "code",
   "execution_count": null,
   "metadata": {},
   "outputs": [],
   "source": []
  }
 ],
 "metadata": {
  "kernelspec": {
   "display_name": "mlenv",
   "language": "python",
   "name": "mlenv"
  },
  "language_info": {
   "codemirror_mode": {
    "name": "ipython",
    "version": 3
   },
   "file_extension": ".py",
   "mimetype": "text/x-python",
   "name": "python",
   "nbconvert_exporter": "python",
   "pygments_lexer": "ipython3",
   "version": "3.7.9"
  }
 },
 "nbformat": 4,
 "nbformat_minor": 4
}
