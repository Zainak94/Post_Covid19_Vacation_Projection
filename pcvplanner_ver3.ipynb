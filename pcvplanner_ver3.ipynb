{
  "nbformat": 4,
  "nbformat_minor": 5,
  "metadata": {
    "kernelspec": {
      "display_name": "Python 3",
      "language": "python",
      "name": "python3"
    },
    "language_info": {
      "codemirror_mode": {
        "name": "ipython",
        "version": 3
      },
      "file_extension": ".py",
      "mimetype": "text/x-python",
      "name": "python",
      "nbconvert_exporter": "python",
      "pygments_lexer": "ipython3",
      "version": "3.6.13"
    },
    "colab": {
      "name": "pcvplanner_ver3.ipynb",
      "provenance": [],
      "include_colab_link": true
    }
  },
  "cells": [
    {
      "cell_type": "markdown",
      "metadata": {
        "id": "view-in-github",
        "colab_type": "text"
      },
      "source": [
        "<a href=\"https://colab.research.google.com/github/nasarar/Post_Covid19_Vacation_Projection/blob/Joseph/pcvplanner_ver3.ipynb\" target=\"_parent\"><img src=\"https://colab.research.google.com/assets/colab-badge.svg\" alt=\"Open In Colab\"/></a>"
      ]
    },
    {
      "cell_type": "code",
      "metadata": {
        "id": "lined-recruitment"
      },
      "source": [
        "import pandas as pd\n",
        "import numpy as np\n",
        "import matplotlib.pyplot as plt"
      ],
      "id": "lined-recruitment",
      "execution_count": 1,
      "outputs": []
    },
    {
      "cell_type": "code",
      "metadata": {
        "colab": {
          "base_uri": "https://localhost:8080/",
          "height": 309
        },
        "id": "jCCi9uZ0aDG1",
        "outputId": "d340aa2f-1821-41b7-beb2-c30033c883ad"
      },
      "source": [
        "# Step 1: Load the data\n",
        "covid_19_PMV = pd.read_csv(\n",
        "    'https://covid.ourworldindata.org/data/owid-covid-data.csv')\n",
        "covid_19_PMV.head()"
      ],
      "id": "jCCi9uZ0aDG1",
      "execution_count": 36,
      "outputs": [
        {
          "output_type": "execute_result",
          "data": {
            "text/html": [
              "<div>\n",
              "<style scoped>\n",
              "    .dataframe tbody tr th:only-of-type {\n",
              "        vertical-align: middle;\n",
              "    }\n",
              "\n",
              "    .dataframe tbody tr th {\n",
              "        vertical-align: top;\n",
              "    }\n",
              "\n",
              "    .dataframe thead th {\n",
              "        text-align: right;\n",
              "    }\n",
              "</style>\n",
              "<table border=\"1\" class=\"dataframe\">\n",
              "  <thead>\n",
              "    <tr style=\"text-align: right;\">\n",
              "      <th></th>\n",
              "      <th>iso_code</th>\n",
              "      <th>continent</th>\n",
              "      <th>location</th>\n",
              "      <th>date</th>\n",
              "      <th>total_cases</th>\n",
              "      <th>new_cases</th>\n",
              "      <th>new_cases_smoothed</th>\n",
              "      <th>total_deaths</th>\n",
              "      <th>new_deaths</th>\n",
              "      <th>new_deaths_smoothed</th>\n",
              "      <th>total_cases_per_million</th>\n",
              "      <th>new_cases_per_million</th>\n",
              "      <th>new_cases_smoothed_per_million</th>\n",
              "      <th>total_deaths_per_million</th>\n",
              "      <th>new_deaths_per_million</th>\n",
              "      <th>new_deaths_smoothed_per_million</th>\n",
              "      <th>reproduction_rate</th>\n",
              "      <th>icu_patients</th>\n",
              "      <th>icu_patients_per_million</th>\n",
              "      <th>hosp_patients</th>\n",
              "      <th>hosp_patients_per_million</th>\n",
              "      <th>weekly_icu_admissions</th>\n",
              "      <th>weekly_icu_admissions_per_million</th>\n",
              "      <th>weekly_hosp_admissions</th>\n",
              "      <th>weekly_hosp_admissions_per_million</th>\n",
              "      <th>new_tests</th>\n",
              "      <th>total_tests</th>\n",
              "      <th>total_tests_per_thousand</th>\n",
              "      <th>new_tests_per_thousand</th>\n",
              "      <th>new_tests_smoothed</th>\n",
              "      <th>new_tests_smoothed_per_thousand</th>\n",
              "      <th>positive_rate</th>\n",
              "      <th>tests_per_case</th>\n",
              "      <th>tests_units</th>\n",
              "      <th>total_vaccinations</th>\n",
              "      <th>people_vaccinated</th>\n",
              "      <th>people_fully_vaccinated</th>\n",
              "      <th>new_vaccinations</th>\n",
              "      <th>new_vaccinations_smoothed</th>\n",
              "      <th>total_vaccinations_per_hundred</th>\n",
              "      <th>people_vaccinated_per_hundred</th>\n",
              "      <th>people_fully_vaccinated_per_hundred</th>\n",
              "      <th>new_vaccinations_smoothed_per_million</th>\n",
              "      <th>stringency_index</th>\n",
              "      <th>population</th>\n",
              "      <th>population_density</th>\n",
              "      <th>median_age</th>\n",
              "      <th>aged_65_older</th>\n",
              "      <th>aged_70_older</th>\n",
              "      <th>gdp_per_capita</th>\n",
              "      <th>extreme_poverty</th>\n",
              "      <th>cardiovasc_death_rate</th>\n",
              "      <th>diabetes_prevalence</th>\n",
              "      <th>female_smokers</th>\n",
              "      <th>male_smokers</th>\n",
              "      <th>handwashing_facilities</th>\n",
              "      <th>hospital_beds_per_thousand</th>\n",
              "      <th>life_expectancy</th>\n",
              "      <th>human_development_index</th>\n",
              "    </tr>\n",
              "  </thead>\n",
              "  <tbody>\n",
              "    <tr>\n",
              "      <th>0</th>\n",
              "      <td>AFG</td>\n",
              "      <td>Asia</td>\n",
              "      <td>Afghanistan</td>\n",
              "      <td>2020-02-24</td>\n",
              "      <td>1.0</td>\n",
              "      <td>1.0</td>\n",
              "      <td>NaN</td>\n",
              "      <td>NaN</td>\n",
              "      <td>NaN</td>\n",
              "      <td>NaN</td>\n",
              "      <td>0.026</td>\n",
              "      <td>0.026</td>\n",
              "      <td>NaN</td>\n",
              "      <td>NaN</td>\n",
              "      <td>NaN</td>\n",
              "      <td>NaN</td>\n",
              "      <td>NaN</td>\n",
              "      <td>NaN</td>\n",
              "      <td>NaN</td>\n",
              "      <td>NaN</td>\n",
              "      <td>NaN</td>\n",
              "      <td>NaN</td>\n",
              "      <td>NaN</td>\n",
              "      <td>NaN</td>\n",
              "      <td>NaN</td>\n",
              "      <td>NaN</td>\n",
              "      <td>NaN</td>\n",
              "      <td>NaN</td>\n",
              "      <td>NaN</td>\n",
              "      <td>NaN</td>\n",
              "      <td>NaN</td>\n",
              "      <td>NaN</td>\n",
              "      <td>NaN</td>\n",
              "      <td>NaN</td>\n",
              "      <td>NaN</td>\n",
              "      <td>NaN</td>\n",
              "      <td>NaN</td>\n",
              "      <td>NaN</td>\n",
              "      <td>NaN</td>\n",
              "      <td>NaN</td>\n",
              "      <td>NaN</td>\n",
              "      <td>NaN</td>\n",
              "      <td>NaN</td>\n",
              "      <td>8.33</td>\n",
              "      <td>38928341.0</td>\n",
              "      <td>54.422</td>\n",
              "      <td>18.6</td>\n",
              "      <td>2.581</td>\n",
              "      <td>1.337</td>\n",
              "      <td>1803.987</td>\n",
              "      <td>NaN</td>\n",
              "      <td>597.029</td>\n",
              "      <td>9.59</td>\n",
              "      <td>NaN</td>\n",
              "      <td>NaN</td>\n",
              "      <td>37.746</td>\n",
              "      <td>0.5</td>\n",
              "      <td>64.83</td>\n",
              "      <td>0.511</td>\n",
              "    </tr>\n",
              "    <tr>\n",
              "      <th>1</th>\n",
              "      <td>AFG</td>\n",
              "      <td>Asia</td>\n",
              "      <td>Afghanistan</td>\n",
              "      <td>2020-02-25</td>\n",
              "      <td>1.0</td>\n",
              "      <td>0.0</td>\n",
              "      <td>NaN</td>\n",
              "      <td>NaN</td>\n",
              "      <td>NaN</td>\n",
              "      <td>NaN</td>\n",
              "      <td>0.026</td>\n",
              "      <td>0.000</td>\n",
              "      <td>NaN</td>\n",
              "      <td>NaN</td>\n",
              "      <td>NaN</td>\n",
              "      <td>NaN</td>\n",
              "      <td>NaN</td>\n",
              "      <td>NaN</td>\n",
              "      <td>NaN</td>\n",
              "      <td>NaN</td>\n",
              "      <td>NaN</td>\n",
              "      <td>NaN</td>\n",
              "      <td>NaN</td>\n",
              "      <td>NaN</td>\n",
              "      <td>NaN</td>\n",
              "      <td>NaN</td>\n",
              "      <td>NaN</td>\n",
              "      <td>NaN</td>\n",
              "      <td>NaN</td>\n",
              "      <td>NaN</td>\n",
              "      <td>NaN</td>\n",
              "      <td>NaN</td>\n",
              "      <td>NaN</td>\n",
              "      <td>NaN</td>\n",
              "      <td>NaN</td>\n",
              "      <td>NaN</td>\n",
              "      <td>NaN</td>\n",
              "      <td>NaN</td>\n",
              "      <td>NaN</td>\n",
              "      <td>NaN</td>\n",
              "      <td>NaN</td>\n",
              "      <td>NaN</td>\n",
              "      <td>NaN</td>\n",
              "      <td>8.33</td>\n",
              "      <td>38928341.0</td>\n",
              "      <td>54.422</td>\n",
              "      <td>18.6</td>\n",
              "      <td>2.581</td>\n",
              "      <td>1.337</td>\n",
              "      <td>1803.987</td>\n",
              "      <td>NaN</td>\n",
              "      <td>597.029</td>\n",
              "      <td>9.59</td>\n",
              "      <td>NaN</td>\n",
              "      <td>NaN</td>\n",
              "      <td>37.746</td>\n",
              "      <td>0.5</td>\n",
              "      <td>64.83</td>\n",
              "      <td>0.511</td>\n",
              "    </tr>\n",
              "    <tr>\n",
              "      <th>2</th>\n",
              "      <td>AFG</td>\n",
              "      <td>Asia</td>\n",
              "      <td>Afghanistan</td>\n",
              "      <td>2020-02-26</td>\n",
              "      <td>1.0</td>\n",
              "      <td>0.0</td>\n",
              "      <td>NaN</td>\n",
              "      <td>NaN</td>\n",
              "      <td>NaN</td>\n",
              "      <td>NaN</td>\n",
              "      <td>0.026</td>\n",
              "      <td>0.000</td>\n",
              "      <td>NaN</td>\n",
              "      <td>NaN</td>\n",
              "      <td>NaN</td>\n",
              "      <td>NaN</td>\n",
              "      <td>NaN</td>\n",
              "      <td>NaN</td>\n",
              "      <td>NaN</td>\n",
              "      <td>NaN</td>\n",
              "      <td>NaN</td>\n",
              "      <td>NaN</td>\n",
              "      <td>NaN</td>\n",
              "      <td>NaN</td>\n",
              "      <td>NaN</td>\n",
              "      <td>NaN</td>\n",
              "      <td>NaN</td>\n",
              "      <td>NaN</td>\n",
              "      <td>NaN</td>\n",
              "      <td>NaN</td>\n",
              "      <td>NaN</td>\n",
              "      <td>NaN</td>\n",
              "      <td>NaN</td>\n",
              "      <td>NaN</td>\n",
              "      <td>NaN</td>\n",
              "      <td>NaN</td>\n",
              "      <td>NaN</td>\n",
              "      <td>NaN</td>\n",
              "      <td>NaN</td>\n",
              "      <td>NaN</td>\n",
              "      <td>NaN</td>\n",
              "      <td>NaN</td>\n",
              "      <td>NaN</td>\n",
              "      <td>8.33</td>\n",
              "      <td>38928341.0</td>\n",
              "      <td>54.422</td>\n",
              "      <td>18.6</td>\n",
              "      <td>2.581</td>\n",
              "      <td>1.337</td>\n",
              "      <td>1803.987</td>\n",
              "      <td>NaN</td>\n",
              "      <td>597.029</td>\n",
              "      <td>9.59</td>\n",
              "      <td>NaN</td>\n",
              "      <td>NaN</td>\n",
              "      <td>37.746</td>\n",
              "      <td>0.5</td>\n",
              "      <td>64.83</td>\n",
              "      <td>0.511</td>\n",
              "    </tr>\n",
              "    <tr>\n",
              "      <th>3</th>\n",
              "      <td>AFG</td>\n",
              "      <td>Asia</td>\n",
              "      <td>Afghanistan</td>\n",
              "      <td>2020-02-27</td>\n",
              "      <td>1.0</td>\n",
              "      <td>0.0</td>\n",
              "      <td>NaN</td>\n",
              "      <td>NaN</td>\n",
              "      <td>NaN</td>\n",
              "      <td>NaN</td>\n",
              "      <td>0.026</td>\n",
              "      <td>0.000</td>\n",
              "      <td>NaN</td>\n",
              "      <td>NaN</td>\n",
              "      <td>NaN</td>\n",
              "      <td>NaN</td>\n",
              "      <td>NaN</td>\n",
              "      <td>NaN</td>\n",
              "      <td>NaN</td>\n",
              "      <td>NaN</td>\n",
              "      <td>NaN</td>\n",
              "      <td>NaN</td>\n",
              "      <td>NaN</td>\n",
              "      <td>NaN</td>\n",
              "      <td>NaN</td>\n",
              "      <td>NaN</td>\n",
              "      <td>NaN</td>\n",
              "      <td>NaN</td>\n",
              "      <td>NaN</td>\n",
              "      <td>NaN</td>\n",
              "      <td>NaN</td>\n",
              "      <td>NaN</td>\n",
              "      <td>NaN</td>\n",
              "      <td>NaN</td>\n",
              "      <td>NaN</td>\n",
              "      <td>NaN</td>\n",
              "      <td>NaN</td>\n",
              "      <td>NaN</td>\n",
              "      <td>NaN</td>\n",
              "      <td>NaN</td>\n",
              "      <td>NaN</td>\n",
              "      <td>NaN</td>\n",
              "      <td>NaN</td>\n",
              "      <td>8.33</td>\n",
              "      <td>38928341.0</td>\n",
              "      <td>54.422</td>\n",
              "      <td>18.6</td>\n",
              "      <td>2.581</td>\n",
              "      <td>1.337</td>\n",
              "      <td>1803.987</td>\n",
              "      <td>NaN</td>\n",
              "      <td>597.029</td>\n",
              "      <td>9.59</td>\n",
              "      <td>NaN</td>\n",
              "      <td>NaN</td>\n",
              "      <td>37.746</td>\n",
              "      <td>0.5</td>\n",
              "      <td>64.83</td>\n",
              "      <td>0.511</td>\n",
              "    </tr>\n",
              "    <tr>\n",
              "      <th>4</th>\n",
              "      <td>AFG</td>\n",
              "      <td>Asia</td>\n",
              "      <td>Afghanistan</td>\n",
              "      <td>2020-02-28</td>\n",
              "      <td>1.0</td>\n",
              "      <td>0.0</td>\n",
              "      <td>NaN</td>\n",
              "      <td>NaN</td>\n",
              "      <td>NaN</td>\n",
              "      <td>NaN</td>\n",
              "      <td>0.026</td>\n",
              "      <td>0.000</td>\n",
              "      <td>NaN</td>\n",
              "      <td>NaN</td>\n",
              "      <td>NaN</td>\n",
              "      <td>NaN</td>\n",
              "      <td>NaN</td>\n",
              "      <td>NaN</td>\n",
              "      <td>NaN</td>\n",
              "      <td>NaN</td>\n",
              "      <td>NaN</td>\n",
              "      <td>NaN</td>\n",
              "      <td>NaN</td>\n",
              "      <td>NaN</td>\n",
              "      <td>NaN</td>\n",
              "      <td>NaN</td>\n",
              "      <td>NaN</td>\n",
              "      <td>NaN</td>\n",
              "      <td>NaN</td>\n",
              "      <td>NaN</td>\n",
              "      <td>NaN</td>\n",
              "      <td>NaN</td>\n",
              "      <td>NaN</td>\n",
              "      <td>NaN</td>\n",
              "      <td>NaN</td>\n",
              "      <td>NaN</td>\n",
              "      <td>NaN</td>\n",
              "      <td>NaN</td>\n",
              "      <td>NaN</td>\n",
              "      <td>NaN</td>\n",
              "      <td>NaN</td>\n",
              "      <td>NaN</td>\n",
              "      <td>NaN</td>\n",
              "      <td>8.33</td>\n",
              "      <td>38928341.0</td>\n",
              "      <td>54.422</td>\n",
              "      <td>18.6</td>\n",
              "      <td>2.581</td>\n",
              "      <td>1.337</td>\n",
              "      <td>1803.987</td>\n",
              "      <td>NaN</td>\n",
              "      <td>597.029</td>\n",
              "      <td>9.59</td>\n",
              "      <td>NaN</td>\n",
              "      <td>NaN</td>\n",
              "      <td>37.746</td>\n",
              "      <td>0.5</td>\n",
              "      <td>64.83</td>\n",
              "      <td>0.511</td>\n",
              "    </tr>\n",
              "  </tbody>\n",
              "</table>\n",
              "</div>"
            ],
            "text/plain": [
              "  iso_code continent  ... life_expectancy human_development_index\n",
              "0      AFG      Asia  ...           64.83                   0.511\n",
              "1      AFG      Asia  ...           64.83                   0.511\n",
              "2      AFG      Asia  ...           64.83                   0.511\n",
              "3      AFG      Asia  ...           64.83                   0.511\n",
              "4      AFG      Asia  ...           64.83                   0.511\n",
              "\n",
              "[5 rows x 59 columns]"
            ]
          },
          "metadata": {
            "tags": []
          },
          "execution_count": 36
        }
      ]
    },
    {
      "cell_type": "code",
      "metadata": {
        "colab": {
          "base_uri": "https://localhost:8080/",
          "height": 419
        },
        "id": "-f6q100lY_oO",
        "outputId": "5e2ddef9-ee9a-4e0d-b74e-a1f24c9b669f"
      },
      "source": [
        "covid_19_filtered= covid_19_PMV[['location','date','people_vaccinated','people_fully_vaccinated','population','population_density','gdp_per_capita']]\n",
        "covid_19_filtered"
      ],
      "id": "-f6q100lY_oO",
      "execution_count": 37,
      "outputs": [
        {
          "output_type": "execute_result",
          "data": {
            "text/html": [
              "<div>\n",
              "<style scoped>\n",
              "    .dataframe tbody tr th:only-of-type {\n",
              "        vertical-align: middle;\n",
              "    }\n",
              "\n",
              "    .dataframe tbody tr th {\n",
              "        vertical-align: top;\n",
              "    }\n",
              "\n",
              "    .dataframe thead th {\n",
              "        text-align: right;\n",
              "    }\n",
              "</style>\n",
              "<table border=\"1\" class=\"dataframe\">\n",
              "  <thead>\n",
              "    <tr style=\"text-align: right;\">\n",
              "      <th></th>\n",
              "      <th>location</th>\n",
              "      <th>date</th>\n",
              "      <th>people_vaccinated</th>\n",
              "      <th>people_fully_vaccinated</th>\n",
              "      <th>population</th>\n",
              "      <th>population_density</th>\n",
              "      <th>gdp_per_capita</th>\n",
              "    </tr>\n",
              "  </thead>\n",
              "  <tbody>\n",
              "    <tr>\n",
              "      <th>0</th>\n",
              "      <td>Afghanistan</td>\n",
              "      <td>2020-02-24</td>\n",
              "      <td>NaN</td>\n",
              "      <td>NaN</td>\n",
              "      <td>38928341.0</td>\n",
              "      <td>54.422</td>\n",
              "      <td>1803.987</td>\n",
              "    </tr>\n",
              "    <tr>\n",
              "      <th>1</th>\n",
              "      <td>Afghanistan</td>\n",
              "      <td>2020-02-25</td>\n",
              "      <td>NaN</td>\n",
              "      <td>NaN</td>\n",
              "      <td>38928341.0</td>\n",
              "      <td>54.422</td>\n",
              "      <td>1803.987</td>\n",
              "    </tr>\n",
              "    <tr>\n",
              "      <th>2</th>\n",
              "      <td>Afghanistan</td>\n",
              "      <td>2020-02-26</td>\n",
              "      <td>NaN</td>\n",
              "      <td>NaN</td>\n",
              "      <td>38928341.0</td>\n",
              "      <td>54.422</td>\n",
              "      <td>1803.987</td>\n",
              "    </tr>\n",
              "    <tr>\n",
              "      <th>3</th>\n",
              "      <td>Afghanistan</td>\n",
              "      <td>2020-02-27</td>\n",
              "      <td>NaN</td>\n",
              "      <td>NaN</td>\n",
              "      <td>38928341.0</td>\n",
              "      <td>54.422</td>\n",
              "      <td>1803.987</td>\n",
              "    </tr>\n",
              "    <tr>\n",
              "      <th>4</th>\n",
              "      <td>Afghanistan</td>\n",
              "      <td>2020-02-28</td>\n",
              "      <td>NaN</td>\n",
              "      <td>NaN</td>\n",
              "      <td>38928341.0</td>\n",
              "      <td>54.422</td>\n",
              "      <td>1803.987</td>\n",
              "    </tr>\n",
              "    <tr>\n",
              "      <th>...</th>\n",
              "      <td>...</td>\n",
              "      <td>...</td>\n",
              "      <td>...</td>\n",
              "      <td>...</td>\n",
              "      <td>...</td>\n",
              "      <td>...</td>\n",
              "      <td>...</td>\n",
              "    </tr>\n",
              "    <tr>\n",
              "      <th>93101</th>\n",
              "      <td>Zimbabwe</td>\n",
              "      <td>2021-05-29</td>\n",
              "      <td>666786.0</td>\n",
              "      <td>335679.0</td>\n",
              "      <td>14862927.0</td>\n",
              "      <td>42.729</td>\n",
              "      <td>1899.775</td>\n",
              "    </tr>\n",
              "    <tr>\n",
              "      <th>93102</th>\n",
              "      <td>Zimbabwe</td>\n",
              "      <td>2021-05-30</td>\n",
              "      <td>670755.0</td>\n",
              "      <td>341218.0</td>\n",
              "      <td>14862927.0</td>\n",
              "      <td>42.729</td>\n",
              "      <td>1899.775</td>\n",
              "    </tr>\n",
              "    <tr>\n",
              "      <th>93103</th>\n",
              "      <td>Zimbabwe</td>\n",
              "      <td>2021-05-31</td>\n",
              "      <td>675678.0</td>\n",
              "      <td>344400.0</td>\n",
              "      <td>14862927.0</td>\n",
              "      <td>42.729</td>\n",
              "      <td>1899.775</td>\n",
              "    </tr>\n",
              "    <tr>\n",
              "      <th>93104</th>\n",
              "      <td>Zimbabwe</td>\n",
              "      <td>2021-06-01</td>\n",
              "      <td>678003.0</td>\n",
              "      <td>353278.0</td>\n",
              "      <td>14862927.0</td>\n",
              "      <td>42.729</td>\n",
              "      <td>1899.775</td>\n",
              "    </tr>\n",
              "    <tr>\n",
              "      <th>93105</th>\n",
              "      <td>Zimbabwe</td>\n",
              "      <td>2021-06-02</td>\n",
              "      <td>NaN</td>\n",
              "      <td>NaN</td>\n",
              "      <td>14862927.0</td>\n",
              "      <td>42.729</td>\n",
              "      <td>1899.775</td>\n",
              "    </tr>\n",
              "  </tbody>\n",
              "</table>\n",
              "<p>93106 rows × 7 columns</p>\n",
              "</div>"
            ],
            "text/plain": [
              "          location        date  ...  population_density  gdp_per_capita\n",
              "0      Afghanistan  2020-02-24  ...              54.422        1803.987\n",
              "1      Afghanistan  2020-02-25  ...              54.422        1803.987\n",
              "2      Afghanistan  2020-02-26  ...              54.422        1803.987\n",
              "3      Afghanistan  2020-02-27  ...              54.422        1803.987\n",
              "4      Afghanistan  2020-02-28  ...              54.422        1803.987\n",
              "...            ...         ...  ...                 ...             ...\n",
              "93101     Zimbabwe  2021-05-29  ...              42.729        1899.775\n",
              "93102     Zimbabwe  2021-05-30  ...              42.729        1899.775\n",
              "93103     Zimbabwe  2021-05-31  ...              42.729        1899.775\n",
              "93104     Zimbabwe  2021-06-01  ...              42.729        1899.775\n",
              "93105     Zimbabwe  2021-06-02  ...              42.729        1899.775\n",
              "\n",
              "[93106 rows x 7 columns]"
            ]
          },
          "metadata": {
            "tags": []
          },
          "execution_count": 37
        }
      ]
    },
    {
      "cell_type": "code",
      "metadata": {
        "colab": {
          "base_uri": "https://localhost:8080/"
        },
        "id": "mnPsOwngZITJ",
        "outputId": "78341c93-9df1-4f28-80d2-0bfc770ac444"
      },
      "source": [
        "covid_19_counts= covid_19_filtered[\"location\"].value_counts()\n",
        "covid_19_counts"
      ],
      "id": "mnPsOwngZITJ",
      "execution_count": 38,
      "outputs": [
        {
          "output_type": "execute_result",
          "data": {
            "text/plain": [
              "Argentina                          519\n",
              "Mexico                             519\n",
              "Thailand                           516\n",
              "Peru                               514\n",
              "Taiwan                             504\n",
              "                                  ... \n",
              "Kiribati                            16\n",
              "British Virgin Islands               8\n",
              "Cook Islands                         8\n",
              "Turkmenistan                         1\n",
              "Bonaire Sint Eustatius and Saba      1\n",
              "Name: location, Length: 229, dtype: int64"
            ]
          },
          "metadata": {
            "tags": []
          },
          "execution_count": 38
        }
      ]
    },
    {
      "cell_type": "code",
      "metadata": {
        "colab": {
          "base_uri": "https://localhost:8080/"
        },
        "id": "M-bY78j0ZUV-",
        "outputId": "c08c12f8-48a9-4674-d527-77027f3b7dd3"
      },
      "source": [
        "covid_19_filtered.dropna(inplace=True)"
      ],
      "id": "M-bY78j0ZUV-",
      "execution_count": 39,
      "outputs": [
        {
          "output_type": "stream",
          "text": [
            "/usr/local/lib/python3.7/dist-packages/ipykernel_launcher.py:1: SettingWithCopyWarning: \n",
            "A value is trying to be set on a copy of a slice from a DataFrame\n",
            "\n",
            "See the caveats in the documentation: https://pandas.pydata.org/pandas-docs/stable/user_guide/indexing.html#returning-a-view-versus-a-copy\n",
            "  \"\"\"Entry point for launching an IPython kernel.\n"
          ],
          "name": "stderr"
        }
      ]
    },
    {
      "cell_type": "code",
      "metadata": {
        "colab": {
          "base_uri": "https://localhost:8080/"
        },
        "id": "M5FGA12EZaP-",
        "outputId": "d9740e73-c5a2-439a-ebf1-c36491b55434"
      },
      "source": [
        "covid_19_counts[covid_19_counts>1].index"
      ],
      "id": "M5FGA12EZaP-",
      "execution_count": 40,
      "outputs": [
        {
          "output_type": "execute_result",
          "data": {
            "text/plain": [
              "Index(['Argentina', 'Mexico', 'Thailand', 'Peru', 'Taiwan', 'South Korea',\n",
              "       'Japan', 'China', 'World', 'United States',\n",
              "       ...\n",
              "       'Falkland Islands', 'Aruba', 'Curacao', 'Tonga', 'Nauru', 'Tuvalu',\n",
              "       'Sint Maarten (Dutch part)', 'Kiribati', 'British Virgin Islands',\n",
              "       'Cook Islands'],\n",
              "      dtype='object', length=227)"
            ]
          },
          "metadata": {
            "tags": []
          },
          "execution_count": 40
        }
      ]
    },
    {
      "cell_type": "code",
      "metadata": {
        "colab": {
          "base_uri": "https://localhost:8080/"
        },
        "id": "9HhX9uksZgKG",
        "outputId": "982627ae-0768-42d2-c645-a1dc43ca9ac9"
      },
      "source": [
        "covid_19_filtered2=covid_19_filtered[\"location\"].isin(covid_19_counts[covid_19_counts>1].index)\n",
        "covid_19_filtered2"
      ],
      "id": "9HhX9uksZgKG",
      "execution_count": 41,
      "outputs": [
        {
          "output_type": "execute_result",
          "data": {
            "text/plain": [
              "442      True\n",
              "451      True\n",
              "455      True\n",
              "457      True\n",
              "458      True\n",
              "         ... \n",
              "93100    True\n",
              "93101    True\n",
              "93102    True\n",
              "93103    True\n",
              "93104    True\n",
              "Name: location, Length: 8186, dtype: bool"
            ]
          },
          "metadata": {
            "tags": []
          },
          "execution_count": 41
        }
      ]
    },
    {
      "cell_type": "code",
      "metadata": {
        "colab": {
          "base_uri": "https://localhost:8080/",
          "height": 419
        },
        "id": "VddHjUBLZlAe",
        "outputId": "626cd8ea-ee7e-4057-b597-7863a52937c4"
      },
      "source": [
        "covid_19_filter= covid_19_filtered[covid_19_filtered2]\n",
        "covid_19_filter"
      ],
      "id": "VddHjUBLZlAe",
      "execution_count": 42,
      "outputs": [
        {
          "output_type": "execute_result",
          "data": {
            "text/html": [
              "<div>\n",
              "<style scoped>\n",
              "    .dataframe tbody tr th:only-of-type {\n",
              "        vertical-align: middle;\n",
              "    }\n",
              "\n",
              "    .dataframe tbody tr th {\n",
              "        vertical-align: top;\n",
              "    }\n",
              "\n",
              "    .dataframe thead th {\n",
              "        text-align: right;\n",
              "    }\n",
              "</style>\n",
              "<table border=\"1\" class=\"dataframe\">\n",
              "  <thead>\n",
              "    <tr style=\"text-align: right;\">\n",
              "      <th></th>\n",
              "      <th>location</th>\n",
              "      <th>date</th>\n",
              "      <th>people_vaccinated</th>\n",
              "      <th>people_fully_vaccinated</th>\n",
              "      <th>population</th>\n",
              "      <th>population_density</th>\n",
              "      <th>gdp_per_capita</th>\n",
              "    </tr>\n",
              "  </thead>\n",
              "  <tbody>\n",
              "    <tr>\n",
              "      <th>442</th>\n",
              "      <td>Afghanistan</td>\n",
              "      <td>2021-05-11</td>\n",
              "      <td>448878.0</td>\n",
              "      <td>55624.0</td>\n",
              "      <td>38928341.0</td>\n",
              "      <td>54.422</td>\n",
              "      <td>1803.987</td>\n",
              "    </tr>\n",
              "    <tr>\n",
              "      <th>451</th>\n",
              "      <td>Afghanistan</td>\n",
              "      <td>2021-05-20</td>\n",
              "      <td>470341.0</td>\n",
              "      <td>77560.0</td>\n",
              "      <td>38928341.0</td>\n",
              "      <td>54.422</td>\n",
              "      <td>1803.987</td>\n",
              "    </tr>\n",
              "    <tr>\n",
              "      <th>455</th>\n",
              "      <td>Afghanistan</td>\n",
              "      <td>2021-05-24</td>\n",
              "      <td>476367.0</td>\n",
              "      <td>96910.0</td>\n",
              "      <td>38928341.0</td>\n",
              "      <td>54.422</td>\n",
              "      <td>1803.987</td>\n",
              "    </tr>\n",
              "    <tr>\n",
              "      <th>457</th>\n",
              "      <td>Afghanistan</td>\n",
              "      <td>2021-05-26</td>\n",
              "      <td>479372.0</td>\n",
              "      <td>111082.0</td>\n",
              "      <td>38928341.0</td>\n",
              "      <td>54.422</td>\n",
              "      <td>1803.987</td>\n",
              "    </tr>\n",
              "    <tr>\n",
              "      <th>458</th>\n",
              "      <td>Afghanistan</td>\n",
              "      <td>2021-05-27</td>\n",
              "      <td>479574.0</td>\n",
              "      <td>113739.0</td>\n",
              "      <td>38928341.0</td>\n",
              "      <td>54.422</td>\n",
              "      <td>1803.987</td>\n",
              "    </tr>\n",
              "    <tr>\n",
              "      <th>...</th>\n",
              "      <td>...</td>\n",
              "      <td>...</td>\n",
              "      <td>...</td>\n",
              "      <td>...</td>\n",
              "      <td>...</td>\n",
              "      <td>...</td>\n",
              "      <td>...</td>\n",
              "    </tr>\n",
              "    <tr>\n",
              "      <th>93100</th>\n",
              "      <td>Zimbabwe</td>\n",
              "      <td>2021-05-28</td>\n",
              "      <td>656630.0</td>\n",
              "      <td>320166.0</td>\n",
              "      <td>14862927.0</td>\n",
              "      <td>42.729</td>\n",
              "      <td>1899.775</td>\n",
              "    </tr>\n",
              "    <tr>\n",
              "      <th>93101</th>\n",
              "      <td>Zimbabwe</td>\n",
              "      <td>2021-05-29</td>\n",
              "      <td>666786.0</td>\n",
              "      <td>335679.0</td>\n",
              "      <td>14862927.0</td>\n",
              "      <td>42.729</td>\n",
              "      <td>1899.775</td>\n",
              "    </tr>\n",
              "    <tr>\n",
              "      <th>93102</th>\n",
              "      <td>Zimbabwe</td>\n",
              "      <td>2021-05-30</td>\n",
              "      <td>670755.0</td>\n",
              "      <td>341218.0</td>\n",
              "      <td>14862927.0</td>\n",
              "      <td>42.729</td>\n",
              "      <td>1899.775</td>\n",
              "    </tr>\n",
              "    <tr>\n",
              "      <th>93103</th>\n",
              "      <td>Zimbabwe</td>\n",
              "      <td>2021-05-31</td>\n",
              "      <td>675678.0</td>\n",
              "      <td>344400.0</td>\n",
              "      <td>14862927.0</td>\n",
              "      <td>42.729</td>\n",
              "      <td>1899.775</td>\n",
              "    </tr>\n",
              "    <tr>\n",
              "      <th>93104</th>\n",
              "      <td>Zimbabwe</td>\n",
              "      <td>2021-06-01</td>\n",
              "      <td>678003.0</td>\n",
              "      <td>353278.0</td>\n",
              "      <td>14862927.0</td>\n",
              "      <td>42.729</td>\n",
              "      <td>1899.775</td>\n",
              "    </tr>\n",
              "  </tbody>\n",
              "</table>\n",
              "<p>8185 rows × 7 columns</p>\n",
              "</div>"
            ],
            "text/plain": [
              "          location        date  ...  population_density  gdp_per_capita\n",
              "442    Afghanistan  2021-05-11  ...              54.422        1803.987\n",
              "451    Afghanistan  2021-05-20  ...              54.422        1803.987\n",
              "455    Afghanistan  2021-05-24  ...              54.422        1803.987\n",
              "457    Afghanistan  2021-05-26  ...              54.422        1803.987\n",
              "458    Afghanistan  2021-05-27  ...              54.422        1803.987\n",
              "...            ...         ...  ...                 ...             ...\n",
              "93100     Zimbabwe  2021-05-28  ...              42.729        1899.775\n",
              "93101     Zimbabwe  2021-05-29  ...              42.729        1899.775\n",
              "93102     Zimbabwe  2021-05-30  ...              42.729        1899.775\n",
              "93103     Zimbabwe  2021-05-31  ...              42.729        1899.775\n",
              "93104     Zimbabwe  2021-06-01  ...              42.729        1899.775\n",
              "\n",
              "[8185 rows x 7 columns]"
            ]
          },
          "metadata": {
            "tags": []
          },
          "execution_count": 42
        }
      ]
    },
    {
      "cell_type": "code",
      "metadata": {
        "colab": {
          "base_uri": "https://localhost:8080/",
          "height": 419
        },
        "id": "J16MpkomZqKX",
        "outputId": "1932612b-8159-43f1-d2cc-a14711e54291"
      },
      "source": [
        "covid_19_final=covid_19_filter[covid_19_filter.location != 'World']\n",
        "covid_19_final"
      ],
      "id": "J16MpkomZqKX",
      "execution_count": 43,
      "outputs": [
        {
          "output_type": "execute_result",
          "data": {
            "text/html": [
              "<div>\n",
              "<style scoped>\n",
              "    .dataframe tbody tr th:only-of-type {\n",
              "        vertical-align: middle;\n",
              "    }\n",
              "\n",
              "    .dataframe tbody tr th {\n",
              "        vertical-align: top;\n",
              "    }\n",
              "\n",
              "    .dataframe thead th {\n",
              "        text-align: right;\n",
              "    }\n",
              "</style>\n",
              "<table border=\"1\" class=\"dataframe\">\n",
              "  <thead>\n",
              "    <tr style=\"text-align: right;\">\n",
              "      <th></th>\n",
              "      <th>location</th>\n",
              "      <th>date</th>\n",
              "      <th>people_vaccinated</th>\n",
              "      <th>people_fully_vaccinated</th>\n",
              "      <th>population</th>\n",
              "      <th>population_density</th>\n",
              "      <th>gdp_per_capita</th>\n",
              "    </tr>\n",
              "  </thead>\n",
              "  <tbody>\n",
              "    <tr>\n",
              "      <th>442</th>\n",
              "      <td>Afghanistan</td>\n",
              "      <td>2021-05-11</td>\n",
              "      <td>448878.0</td>\n",
              "      <td>55624.0</td>\n",
              "      <td>38928341.0</td>\n",
              "      <td>54.422</td>\n",
              "      <td>1803.987</td>\n",
              "    </tr>\n",
              "    <tr>\n",
              "      <th>451</th>\n",
              "      <td>Afghanistan</td>\n",
              "      <td>2021-05-20</td>\n",
              "      <td>470341.0</td>\n",
              "      <td>77560.0</td>\n",
              "      <td>38928341.0</td>\n",
              "      <td>54.422</td>\n",
              "      <td>1803.987</td>\n",
              "    </tr>\n",
              "    <tr>\n",
              "      <th>455</th>\n",
              "      <td>Afghanistan</td>\n",
              "      <td>2021-05-24</td>\n",
              "      <td>476367.0</td>\n",
              "      <td>96910.0</td>\n",
              "      <td>38928341.0</td>\n",
              "      <td>54.422</td>\n",
              "      <td>1803.987</td>\n",
              "    </tr>\n",
              "    <tr>\n",
              "      <th>457</th>\n",
              "      <td>Afghanistan</td>\n",
              "      <td>2021-05-26</td>\n",
              "      <td>479372.0</td>\n",
              "      <td>111082.0</td>\n",
              "      <td>38928341.0</td>\n",
              "      <td>54.422</td>\n",
              "      <td>1803.987</td>\n",
              "    </tr>\n",
              "    <tr>\n",
              "      <th>458</th>\n",
              "      <td>Afghanistan</td>\n",
              "      <td>2021-05-27</td>\n",
              "      <td>479574.0</td>\n",
              "      <td>113739.0</td>\n",
              "      <td>38928341.0</td>\n",
              "      <td>54.422</td>\n",
              "      <td>1803.987</td>\n",
              "    </tr>\n",
              "    <tr>\n",
              "      <th>...</th>\n",
              "      <td>...</td>\n",
              "      <td>...</td>\n",
              "      <td>...</td>\n",
              "      <td>...</td>\n",
              "      <td>...</td>\n",
              "      <td>...</td>\n",
              "      <td>...</td>\n",
              "    </tr>\n",
              "    <tr>\n",
              "      <th>93100</th>\n",
              "      <td>Zimbabwe</td>\n",
              "      <td>2021-05-28</td>\n",
              "      <td>656630.0</td>\n",
              "      <td>320166.0</td>\n",
              "      <td>14862927.0</td>\n",
              "      <td>42.729</td>\n",
              "      <td>1899.775</td>\n",
              "    </tr>\n",
              "    <tr>\n",
              "      <th>93101</th>\n",
              "      <td>Zimbabwe</td>\n",
              "      <td>2021-05-29</td>\n",
              "      <td>666786.0</td>\n",
              "      <td>335679.0</td>\n",
              "      <td>14862927.0</td>\n",
              "      <td>42.729</td>\n",
              "      <td>1899.775</td>\n",
              "    </tr>\n",
              "    <tr>\n",
              "      <th>93102</th>\n",
              "      <td>Zimbabwe</td>\n",
              "      <td>2021-05-30</td>\n",
              "      <td>670755.0</td>\n",
              "      <td>341218.0</td>\n",
              "      <td>14862927.0</td>\n",
              "      <td>42.729</td>\n",
              "      <td>1899.775</td>\n",
              "    </tr>\n",
              "    <tr>\n",
              "      <th>93103</th>\n",
              "      <td>Zimbabwe</td>\n",
              "      <td>2021-05-31</td>\n",
              "      <td>675678.0</td>\n",
              "      <td>344400.0</td>\n",
              "      <td>14862927.0</td>\n",
              "      <td>42.729</td>\n",
              "      <td>1899.775</td>\n",
              "    </tr>\n",
              "    <tr>\n",
              "      <th>93104</th>\n",
              "      <td>Zimbabwe</td>\n",
              "      <td>2021-06-01</td>\n",
              "      <td>678003.0</td>\n",
              "      <td>353278.0</td>\n",
              "      <td>14862927.0</td>\n",
              "      <td>42.729</td>\n",
              "      <td>1899.775</td>\n",
              "    </tr>\n",
              "  </tbody>\n",
              "</table>\n",
              "<p>8027 rows × 7 columns</p>\n",
              "</div>"
            ],
            "text/plain": [
              "          location        date  ...  population_density  gdp_per_capita\n",
              "442    Afghanistan  2021-05-11  ...              54.422        1803.987\n",
              "451    Afghanistan  2021-05-20  ...              54.422        1803.987\n",
              "455    Afghanistan  2021-05-24  ...              54.422        1803.987\n",
              "457    Afghanistan  2021-05-26  ...              54.422        1803.987\n",
              "458    Afghanistan  2021-05-27  ...              54.422        1803.987\n",
              "...            ...         ...  ...                 ...             ...\n",
              "93100     Zimbabwe  2021-05-28  ...              42.729        1899.775\n",
              "93101     Zimbabwe  2021-05-29  ...              42.729        1899.775\n",
              "93102     Zimbabwe  2021-05-30  ...              42.729        1899.775\n",
              "93103     Zimbabwe  2021-05-31  ...              42.729        1899.775\n",
              "93104     Zimbabwe  2021-06-01  ...              42.729        1899.775\n",
              "\n",
              "[8027 rows x 7 columns]"
            ]
          },
          "metadata": {
            "tags": []
          },
          "execution_count": 43
        }
      ]
    },
    {
      "cell_type": "code",
      "metadata": {
        "id": "piGS5X6VZ0tX"
      },
      "source": [
        "covid_19_final.to_csv('covid_19_ready.csv')"
      ],
      "id": "piGS5X6VZ0tX",
      "execution_count": 44,
      "outputs": []
    },
    {
      "cell_type": "code",
      "metadata": {
        "colab": {
          "base_uri": "https://localhost:8080/"
        },
        "id": "QDYW0Vp-aDDL",
        "outputId": "bc844b6e-e064-453a-b217-cda4dccd6cd5"
      },
      "source": [
        "from google.colab import drive\n",
        "drive.mount('/content/drive')"
      ],
      "id": "QDYW0Vp-aDDL",
      "execution_count": 45,
      "outputs": [
        {
          "output_type": "stream",
          "text": [
            "Drive already mounted at /content/drive; to attempt to forcibly remount, call drive.mount(\"/content/drive\", force_remount=True).\n"
          ],
          "name": "stdout"
        }
      ]
    },
    {
      "cell_type": "code",
      "metadata": {
        "colab": {
          "base_uri": "https://localhost:8080/",
          "height": 204
        },
        "id": "pursuant-advertiser",
        "outputId": "4202f35a-22c7-444d-d43a-915b3ea5bc36"
      },
      "source": [
        "df_ready = pd.read_csv('/content/drive/MyDrive/Colab Notebooks/covid_19_ready.csv')\n",
        "df_ready.head()"
      ],
      "id": "pursuant-advertiser",
      "execution_count": 46,
      "outputs": [
        {
          "output_type": "execute_result",
          "data": {
            "text/html": [
              "<div>\n",
              "<style scoped>\n",
              "    .dataframe tbody tr th:only-of-type {\n",
              "        vertical-align: middle;\n",
              "    }\n",
              "\n",
              "    .dataframe tbody tr th {\n",
              "        vertical-align: top;\n",
              "    }\n",
              "\n",
              "    .dataframe thead th {\n",
              "        text-align: right;\n",
              "    }\n",
              "</style>\n",
              "<table border=\"1\" class=\"dataframe\">\n",
              "  <thead>\n",
              "    <tr style=\"text-align: right;\">\n",
              "      <th></th>\n",
              "      <th>Unnamed: 0</th>\n",
              "      <th>location</th>\n",
              "      <th>date</th>\n",
              "      <th>people_vaccinated</th>\n",
              "      <th>people_fully_vaccinated</th>\n",
              "      <th>population</th>\n",
              "      <th>population_density</th>\n",
              "      <th>gdp_per_capita</th>\n",
              "    </tr>\n",
              "  </thead>\n",
              "  <tbody>\n",
              "    <tr>\n",
              "      <th>0</th>\n",
              "      <td>1246</td>\n",
              "      <td>Albania</td>\n",
              "      <td>2/2/21</td>\n",
              "      <td>549</td>\n",
              "      <td>1</td>\n",
              "      <td>2877800</td>\n",
              "      <td>104.871</td>\n",
              "      <td>11803.431</td>\n",
              "    </tr>\n",
              "    <tr>\n",
              "      <th>1</th>\n",
              "      <td>1253</td>\n",
              "      <td>Albania</td>\n",
              "      <td>2/9/21</td>\n",
              "      <td>689</td>\n",
              "      <td>438</td>\n",
              "      <td>2877800</td>\n",
              "      <td>104.871</td>\n",
              "      <td>11803.431</td>\n",
              "    </tr>\n",
              "    <tr>\n",
              "      <th>2</th>\n",
              "      <td>1261</td>\n",
              "      <td>Albania</td>\n",
              "      <td>2/17/21</td>\n",
              "      <td>1090</td>\n",
              "      <td>611</td>\n",
              "      <td>2877800</td>\n",
              "      <td>104.871</td>\n",
              "      <td>11803.431</td>\n",
              "    </tr>\n",
              "    <tr>\n",
              "      <th>3</th>\n",
              "      <td>1262</td>\n",
              "      <td>Albania</td>\n",
              "      <td>2/18/21</td>\n",
              "      <td>2438</td>\n",
              "      <td>611</td>\n",
              "      <td>2877800</td>\n",
              "      <td>104.871</td>\n",
              "      <td>11803.431</td>\n",
              "    </tr>\n",
              "    <tr>\n",
              "      <th>4</th>\n",
              "      <td>1266</td>\n",
              "      <td>Albania</td>\n",
              "      <td>2/22/21</td>\n",
              "      <td>6073</td>\n",
              "      <td>655</td>\n",
              "      <td>2877800</td>\n",
              "      <td>104.871</td>\n",
              "      <td>11803.431</td>\n",
              "    </tr>\n",
              "  </tbody>\n",
              "</table>\n",
              "</div>"
            ],
            "text/plain": [
              "   Unnamed: 0 location     date  ...  population  population_density  gdp_per_capita\n",
              "0        1246  Albania   2/2/21  ...     2877800             104.871       11803.431\n",
              "1        1253  Albania   2/9/21  ...     2877800             104.871       11803.431\n",
              "2        1261  Albania  2/17/21  ...     2877800             104.871       11803.431\n",
              "3        1262  Albania  2/18/21  ...     2877800             104.871       11803.431\n",
              "4        1266  Albania  2/22/21  ...     2877800             104.871       11803.431\n",
              "\n",
              "[5 rows x 8 columns]"
            ]
          },
          "metadata": {
            "tags": []
          },
          "execution_count": 46
        }
      ]
    },
    {
      "cell_type": "code",
      "metadata": {
        "colab": {
          "base_uri": "https://localhost:8080/"
        },
        "id": "JDezRXbgWqgR",
        "outputId": "df7a9141-9498-4060-8ae2-2a60ea9aab64"
      },
      "source": [
        "from google.colab import drive\n",
        "drive.mount('/content/drive')"
      ],
      "id": "JDezRXbgWqgR",
      "execution_count": 4,
      "outputs": [
        {
          "output_type": "stream",
          "text": [
            "Drive already mounted at /content/drive; to attempt to forcibly remount, call drive.mount(\"/content/drive\", force_remount=True).\n"
          ],
          "name": "stdout"
        }
      ]
    },
    {
      "cell_type": "code",
      "metadata": {
        "id": "7VsNlR8Pkuos"
      },
      "source": [
        "# add ratio_vaccinated as the % of total population vaccinated\n",
        "df_ready['ratio_vaccinated'] = df_ready['people_vaccinated'] / df_ready['population']*100"
      ],
      "id": "7VsNlR8Pkuos",
      "execution_count": 47,
      "outputs": []
    },
    {
      "cell_type": "code",
      "metadata": {
        "colab": {
          "base_uri": "https://localhost:8080/"
        },
        "id": "ZyMVjvcoecMO",
        "outputId": "ba2eb491-b3b2-4ab5-b4b7-9ac099a2cd80"
      },
      "source": [
        "type(df_ready['date'][0])"
      ],
      "id": "ZyMVjvcoecMO",
      "execution_count": 48,
      "outputs": [
        {
          "output_type": "execute_result",
          "data": {
            "text/plain": [
              "str"
            ]
          },
          "metadata": {
            "tags": []
          },
          "execution_count": 48
        }
      ]
    },
    {
      "cell_type": "code",
      "metadata": {
        "id": "-l-0grrIeM2C"
      },
      "source": [
        "from datetime import datetime as dt\n",
        "import datetime\n",
        "\n",
        "## Convert the dates into a datatime type and add the ordinal date column ##\n",
        "if not isinstance(df_ready['date'][0], datetime.date):\n",
        "  ordinal_dates = []\n",
        "  dates_dt = []\n",
        "  for index, row in df_ready.iterrows():\n",
        "    d = dt.strptime(row['date'], '%m/%d/%y').date()\n",
        "    dates_dt.append(d)\n",
        "    ordinal_dates.append(d.toordinal())\n",
        "  df_ready['ordinal_date'] = ordinal_dates\n",
        "  df_ready['date_dt'] = dates_dt"
      ],
      "id": "-l-0grrIeM2C",
      "execution_count": 49,
      "outputs": []
    },
    {
      "cell_type": "code",
      "metadata": {
        "colab": {
          "base_uri": "https://localhost:8080/",
          "height": 204
        },
        "id": "thick-practice",
        "outputId": "683f5f7f-1d4f-4f51-e751-d4a2057c9364"
      },
      "source": [
        "df_ready.head()"
      ],
      "id": "thick-practice",
      "execution_count": 50,
      "outputs": [
        {
          "output_type": "execute_result",
          "data": {
            "text/html": [
              "<div>\n",
              "<style scoped>\n",
              "    .dataframe tbody tr th:only-of-type {\n",
              "        vertical-align: middle;\n",
              "    }\n",
              "\n",
              "    .dataframe tbody tr th {\n",
              "        vertical-align: top;\n",
              "    }\n",
              "\n",
              "    .dataframe thead th {\n",
              "        text-align: right;\n",
              "    }\n",
              "</style>\n",
              "<table border=\"1\" class=\"dataframe\">\n",
              "  <thead>\n",
              "    <tr style=\"text-align: right;\">\n",
              "      <th></th>\n",
              "      <th>Unnamed: 0</th>\n",
              "      <th>location</th>\n",
              "      <th>date</th>\n",
              "      <th>people_vaccinated</th>\n",
              "      <th>people_fully_vaccinated</th>\n",
              "      <th>population</th>\n",
              "      <th>population_density</th>\n",
              "      <th>gdp_per_capita</th>\n",
              "      <th>ratio_vaccinated</th>\n",
              "      <th>ordinal_date</th>\n",
              "      <th>date_dt</th>\n",
              "    </tr>\n",
              "  </thead>\n",
              "  <tbody>\n",
              "    <tr>\n",
              "      <th>0</th>\n",
              "      <td>1246</td>\n",
              "      <td>Albania</td>\n",
              "      <td>2/2/21</td>\n",
              "      <td>549</td>\n",
              "      <td>1</td>\n",
              "      <td>2877800</td>\n",
              "      <td>104.871</td>\n",
              "      <td>11803.431</td>\n",
              "      <td>0.019077</td>\n",
              "      <td>737823</td>\n",
              "      <td>2021-02-02</td>\n",
              "    </tr>\n",
              "    <tr>\n",
              "      <th>1</th>\n",
              "      <td>1253</td>\n",
              "      <td>Albania</td>\n",
              "      <td>2/9/21</td>\n",
              "      <td>689</td>\n",
              "      <td>438</td>\n",
              "      <td>2877800</td>\n",
              "      <td>104.871</td>\n",
              "      <td>11803.431</td>\n",
              "      <td>0.023942</td>\n",
              "      <td>737830</td>\n",
              "      <td>2021-02-09</td>\n",
              "    </tr>\n",
              "    <tr>\n",
              "      <th>2</th>\n",
              "      <td>1261</td>\n",
              "      <td>Albania</td>\n",
              "      <td>2/17/21</td>\n",
              "      <td>1090</td>\n",
              "      <td>611</td>\n",
              "      <td>2877800</td>\n",
              "      <td>104.871</td>\n",
              "      <td>11803.431</td>\n",
              "      <td>0.037876</td>\n",
              "      <td>737838</td>\n",
              "      <td>2021-02-17</td>\n",
              "    </tr>\n",
              "    <tr>\n",
              "      <th>3</th>\n",
              "      <td>1262</td>\n",
              "      <td>Albania</td>\n",
              "      <td>2/18/21</td>\n",
              "      <td>2438</td>\n",
              "      <td>611</td>\n",
              "      <td>2877800</td>\n",
              "      <td>104.871</td>\n",
              "      <td>11803.431</td>\n",
              "      <td>0.084717</td>\n",
              "      <td>737839</td>\n",
              "      <td>2021-02-18</td>\n",
              "    </tr>\n",
              "    <tr>\n",
              "      <th>4</th>\n",
              "      <td>1266</td>\n",
              "      <td>Albania</td>\n",
              "      <td>2/22/21</td>\n",
              "      <td>6073</td>\n",
              "      <td>655</td>\n",
              "      <td>2877800</td>\n",
              "      <td>104.871</td>\n",
              "      <td>11803.431</td>\n",
              "      <td>0.211029</td>\n",
              "      <td>737843</td>\n",
              "      <td>2021-02-22</td>\n",
              "    </tr>\n",
              "  </tbody>\n",
              "</table>\n",
              "</div>"
            ],
            "text/plain": [
              "   Unnamed: 0 location     date  ...  ratio_vaccinated  ordinal_date     date_dt\n",
              "0        1246  Albania   2/2/21  ...          0.019077        737823  2021-02-02\n",
              "1        1253  Albania   2/9/21  ...          0.023942        737830  2021-02-09\n",
              "2        1261  Albania  2/17/21  ...          0.037876        737838  2021-02-17\n",
              "3        1262  Albania  2/18/21  ...          0.084717        737839  2021-02-18\n",
              "4        1266  Albania  2/22/21  ...          0.211029        737843  2021-02-22\n",
              "\n",
              "[5 rows x 11 columns]"
            ]
          },
          "metadata": {
            "tags": []
          },
          "execution_count": 50
        }
      ]
    },
    {
      "cell_type": "code",
      "metadata": {
        "colab": {
          "base_uri": "https://localhost:8080/"
        },
        "id": "artistic-jordan",
        "outputId": "d944d3fb-a7d0-43aa-d298-1432b55ace66"
      },
      "source": [
        "df_ready['location'].describe()"
      ],
      "id": "artistic-jordan",
      "execution_count": 51,
      "outputs": [
        {
          "output_type": "execute_result",
          "data": {
            "text/plain": [
              "count        6331\n",
              "unique        114\n",
              "top       Germany\n",
              "freq          139\n",
              "Name: location, dtype: object"
            ]
          },
          "metadata": {
            "tags": []
          },
          "execution_count": 51
        }
      ]
    },
    {
      "cell_type": "code",
      "metadata": {
        "colab": {
          "base_uri": "https://localhost:8080/"
        },
        "id": "gTpEFQaoWQPB",
        "outputId": "9b42be46-2f94-4715-a772-ba639a39fa14"
      },
      "source": [
        "countries = df_ready['location'].unique()\n",
        "countries"
      ],
      "id": "gTpEFQaoWQPB",
      "execution_count": 52,
      "outputs": [
        {
          "output_type": "execute_result",
          "data": {
            "text/plain": [
              "array(['Albania', 'Argentina', 'Aruba', 'Austria', 'Azerbaijan',\n",
              "       'Bahrain', 'Bangladesh', 'Barbados', 'Belarus', 'Belgium',\n",
              "       'Bermuda', 'Bolivia', 'Brazil', 'Bulgaria', 'Cambodia', 'Canada',\n",
              "       'Cayman Islands', 'Chile', 'Colombia', 'Costa Rica', 'Croatia',\n",
              "       'Cyprus', 'Czechia', 'Denmark', 'Dominica', 'Dominican Republic',\n",
              "       'Ecuador', 'Egypt', 'El Salvador', 'Equatorial Guinea', 'Estonia',\n",
              "       'Finland', 'France', 'Gabon', 'Germany', 'Greece', 'Grenada',\n",
              "       'Guatemala', 'Guinea', 'Guyana', 'Hong Kong', 'Hungary', 'Iceland',\n",
              "       'India', 'Indonesia', 'Iran', 'Ireland', 'Israel', 'Italy',\n",
              "       'Japan', 'Jordan', 'Kazakhstan', 'Kuwait', 'Kyrgyzstan', 'Laos',\n",
              "       'Latvia', 'Lebanon', 'Lithuania', 'Luxembourg', 'Macao',\n",
              "       'Malaysia', 'Maldives', 'Malta', 'Mexico', 'Moldova', 'Mongolia',\n",
              "       'Montenegro', 'Morocco', 'Myanmar', 'Namibia', 'Netherlands',\n",
              "       'New Zealand', 'North Macedonia', 'Norway', 'Oman', 'Pakistan',\n",
              "       'Palestine', 'Panama', 'Paraguay', 'Peru', 'Philippines', 'Poland',\n",
              "       'Portugal', 'Qatar', 'Romania', 'Russia', 'Saint Kitts and Nevis',\n",
              "       'San Marino', 'Serbia', 'Seychelles', 'Sierra Leone', 'Singapore',\n",
              "       'Slovakia', 'Slovenia', 'Solomon Islands', 'South Africa',\n",
              "       'South Korea', 'Spain', 'Sri Lanka', 'Suriname', 'Sweden',\n",
              "       'Switzerland', 'Thailand', 'Tonga', 'Trinidad and Tobago',\n",
              "       'Tunisia', 'Turkey', 'Ukraine', 'United Arab Emirates',\n",
              "       'United Kingdom', 'United States', 'Uruguay', 'Vietnam',\n",
              "       'Zimbabwe'], dtype=object)"
            ]
          },
          "metadata": {
            "tags": []
          },
          "execution_count": 52
        }
      ]
    },
    {
      "cell_type": "code",
      "metadata": {
        "colab": {
          "base_uri": "https://localhost:8080/"
        },
        "id": "chemical-laser",
        "outputId": "4678b587-f100-4d7a-d653-1a44ef9070b7"
      },
      "source": [
        "# count data points for each country\n",
        "by_country = df_ready.groupby(\"location\")[\"location\"].count()\n",
        "# sort countries by number of data points\n",
        "by_country.sort_values()"
      ],
      "id": "chemical-laser",
      "execution_count": 53,
      "outputs": [
        {
          "output_type": "execute_result",
          "data": {
            "text/plain": [
              "location\n",
              "Kyrgyzstan                 2\n",
              "Pakistan                   2\n",
              "Vietnam                    2\n",
              "Solomon Islands            2\n",
              "Saint Kitts and Nevis      2\n",
              "                        ... \n",
              "Slovenia                 127\n",
              "Canada                   129\n",
              "Israel                   131\n",
              "Belgium                  136\n",
              "Germany                  139\n",
              "Name: location, Length: 114, dtype: int64"
            ]
          },
          "metadata": {
            "tags": []
          },
          "execution_count": 53
        }
      ]
    },
    {
      "cell_type": "code",
      "metadata": {
        "id": "ZlIDv-cOGB9b"
      },
      "source": [
        "def plot_country_graph(df_ready, country_name):\n",
        "  df_temp = df_ready[df_ready['location'] == country_name]\n",
        "  df_temp.reset_index(drop=True)\n",
        "  print('%s percentage vaccination' % (country_name))\n",
        "  df_temp.plot(x='date', y='ratio_vaccinated',ylim=[0, 100])"
      ],
      "id": "ZlIDv-cOGB9b",
      "execution_count": 54,
      "outputs": []
    },
    {
      "cell_type": "code",
      "metadata": {
        "colab": {
          "base_uri": "https://localhost:8080/",
          "height": 301
        },
        "id": "entertaining-height",
        "outputId": "7b9df4b2-3ea5-4811-dd64-2804c7000e15"
      },
      "source": [
        "# Countries with most data points are: Germany, Belgium, Israel, Canada\n",
        "# Let's print some graphs\n",
        "plot_country_graph(df_ready, 'Germany')"
      ],
      "id": "entertaining-height",
      "execution_count": 55,
      "outputs": [
        {
          "output_type": "stream",
          "text": [
            "Germany percentage vaccination\n"
          ],
          "name": "stdout"
        },
        {
          "output_type": "display_data",
          "data": {
            "image/png": "[encoded data removed]",
            "text/plain": [
              "<Figure size 432x288 with 1 Axes>"
            ]
          },
          "metadata": {
            "tags": [],
            "needs_background": "light"
          }
        }
      ]
    },
    {
      "cell_type": "code",
      "metadata": {
        "colab": {
          "base_uri": "https://localhost:8080/",
          "height": 301
        },
        "id": "CI58JXn3XHyN",
        "outputId": "18c52175-c2ea-413d-a90a-f40cd589cdce"
      },
      "source": [
        "plot_country_graph(df_ready, 'Belgium')"
      ],
      "id": "CI58JXn3XHyN",
      "execution_count": 56,
      "outputs": [
        {
          "output_type": "stream",
          "text": [
            "Belgium percentage vaccination\n"
          ],
          "name": "stdout"
        },
        {
          "output_type": "display_data",
          "data": {
            "image/png": "[encoded data removed]",
            "text/plain": [
              "<Figure size 432x288 with 1 Axes>"
            ]
          },
          "metadata": {
            "tags": [],
            "needs_background": "light"
          }
        }
      ]
    },
    {
      "cell_type": "code",
      "metadata": {
        "colab": {
          "base_uri": "https://localhost:8080/",
          "height": 301
        },
        "id": "PXmuh8TdFn_P",
        "outputId": "7059a9fe-a308-4f00-810e-5cf2bb910f30"
      },
      "source": [
        "plot_country_graph(df_ready, 'Israel')"
      ],
      "id": "PXmuh8TdFn_P",
      "execution_count": 57,
      "outputs": [
        {
          "output_type": "stream",
          "text": [
            "Israel percentage vaccination\n"
          ],
          "name": "stdout"
        },
        {
          "output_type": "display_data",
          "data": {
            "image/png": "[encoded data removed]",
            "text/plain": [
              "<Figure size 432x288 with 1 Axes>"
            ]
          },
          "metadata": {
            "tags": [],
            "needs_background": "light"
          }
        }
      ]
    },
    {
      "cell_type": "code",
      "metadata": {
        "colab": {
          "base_uri": "https://localhost:8080/",
          "height": 301
        },
        "id": "P8yRtCYvOWt1",
        "outputId": "9efcb799-0978-49ed-83ec-73c275fa2897"
      },
      "source": [
        "plot_country_graph(df_ready, 'Canada')"
      ],
      "id": "P8yRtCYvOWt1",
      "execution_count": 58,
      "outputs": [
        {
          "output_type": "stream",
          "text": [
            "Canada percentage vaccination\n"
          ],
          "name": "stdout"
        },
        {
          "output_type": "display_data",
          "data": {
            "image/png": "[encoded data removed]",
            "text/plain": [
              "<Figure size 432x288 with 1 Axes>"
            ]
          },
          "metadata": {
            "tags": [],
            "needs_background": "light"
          }
        }
      ]
    },
    {
      "cell_type": "code",
      "metadata": {
        "id": "rhVWj5eWiGpS"
      },
      "source": [
        "def train_poly_model(df_ready, country_name):\n",
        "  data = df_ready[df_ready['location'] == country_name]\n",
        "  data.head()\n",
        "  dates_ordinal = data['ordinal_date'].to_list()\n",
        "  dates = data['date'].to_list()\n",
        "  dates_dt = data['date_dt'].to_list()\n",
        "  ratio = data['ratio_vaccinated'].to_list()\n",
        "  # print(dates_ordinal)\n",
        "  # print(ratio)\n",
        "\n",
        "  extended_range = [d for d in dates_dt]\n",
        "  date = dates_dt[-1]\n",
        "  for i in range(365):\n",
        "      date += datetime.timedelta(days=1)\n",
        "      extended_range.append(date)\n",
        "\n",
        "  ## Mean temperatures ##\n",
        "  z = np.polyfit(dates_ordinal, ratio, 3)\n",
        "  print('Polynomial parameters ', z)\n",
        "  p = np.poly1d(z)\n",
        "  y_pred = p([d.toordinal() for d in extended_range])\n",
        "  for i in range(len(y_pred)):\n",
        "    if y_pred[i] >= 100:\n",
        "      y_pred[i] = 100\n",
        "  plt.plot(extended_range, y_pred, color='g', label='polyfit model')\n",
        "  plt.scatter(dates_ordinal, ratio, color='b', label='% pop vaccinated', marker='.')\n",
        "  plt.xticks(rotation=1000)\n",
        "  plt.ylim(0, 110)\n",
        "  plt.ylabel(\"Percentage population vaccinated\")\n",
        "  plt.legend()\n",
        "  plt.show()"
      ],
      "id": "rhVWj5eWiGpS",
      "execution_count": 59,
      "outputs": []
    },
    {
      "cell_type": "code",
      "metadata": {
        "colab": {
          "base_uri": "https://localhost:8080/",
          "height": 352
        },
        "id": "h9SppAnZkJuj",
        "outputId": "79d45837-cef3-450b-d2e4-96fe5e1eacb6"
      },
      "source": [
        "train_poly_model(df_ready, 'Germany')"
      ],
      "id": "h9SppAnZkJuj",
      "execution_count": 60,
      "outputs": [
        {
          "output_type": "stream",
          "text": [
            "Polynomial parameters  [ 1.76912385e-09 -1.30523179e-03 -9.63117952e+02  7.10573302e+08]\n"
          ],
          "name": "stdout"
        },
        {
          "output_type": "stream",
          "text": [
            "/usr/local/lib/python3.7/dist-packages/ipykernel_launcher.py:1: RankWarning: Polyfit may be poorly conditioned\n",
            "  \"\"\"Entry point for launching an IPython kernel.\n"
          ],
          "name": "stderr"
        },
        {
          "output_type": "display_data",
          "data": {
            "image/png": "[encoded data removed]",
            "text/plain": [
              "<Figure size 432x288 with 1 Axes>"
            ]
          },
          "metadata": {
            "tags": [],
            "needs_background": "light"
          }
        }
      ]
    },
    {
      "cell_type": "code",
      "metadata": {
        "colab": {
          "base_uri": "https://localhost:8080/",
          "height": 352
        },
        "id": "CL0oFpRhjZZB",
        "outputId": "0da9e104-d59d-4425-ea4e-4151f6ce2d77"
      },
      "source": [
        "train_poly_model(df_ready, 'Israel')"
      ],
      "id": "CL0oFpRhjZZB",
      "execution_count": 61,
      "outputs": [
        {
          "output_type": "stream",
          "text": [
            "Polynomial parameters  [-2.94033938e-09  2.16974179e-03  1.60089496e+03 -1.18133592e+09]\n"
          ],
          "name": "stdout"
        },
        {
          "output_type": "stream",
          "text": [
            "/usr/local/lib/python3.7/dist-packages/ipykernel_launcher.py:1: RankWarning: Polyfit may be poorly conditioned\n",
            "  \"\"\"Entry point for launching an IPython kernel.\n"
          ],
          "name": "stderr"
        },
        {
          "output_type": "display_data",
          "data": {
            "image/png": "[encoded data removed]",
            "text/plain": [
              "<Figure size 432x288 with 1 Axes>"
            ]
          },
          "metadata": {
            "tags": [],
            "needs_background": "light"
          }
        }
      ]
    },
    {
      "cell_type": "code",
      "metadata": {
        "colab": {
          "base_uri": "https://localhost:8080/",
          "height": 352
        },
        "id": "S3h1Ucs1jbh_",
        "outputId": "d272ff7e-2c9e-4f5f-a4b6-c3fa70eb95fd"
      },
      "source": [
        "train_poly_model(df_ready, 'Belgium')"
      ],
      "id": "S3h1Ucs1jbh_",
      "execution_count": 62,
      "outputs": [
        {
          "output_type": "stream",
          "text": [
            "Polynomial parameters  [ 1.65516852e-09 -1.22115058e-03 -9.01080866e+02  6.64799636e+08]\n"
          ],
          "name": "stdout"
        },
        {
          "output_type": "stream",
          "text": [
            "/usr/local/lib/python3.7/dist-packages/ipykernel_launcher.py:1: RankWarning: Polyfit may be poorly conditioned\n",
            "  \"\"\"Entry point for launching an IPython kernel.\n"
          ],
          "name": "stderr"
        },
        {
          "output_type": "display_data",
          "data": {
            "image/png": "[encoded data removed]",
            "text/plain": [
              "<Figure size 432x288 with 1 Axes>"
            ]
          },
          "metadata": {
            "tags": [],
            "needs_background": "light"
          }
        }
      ]
    },
    {
      "cell_type": "code",
      "metadata": {
        "colab": {
          "base_uri": "https://localhost:8080/",
          "height": 352
        },
        "id": "lryjzhjToGfd",
        "outputId": "abb59d38-58c9-4b1c-9993-c2df1bf00ff0"
      },
      "source": [
        "train_poly_model(df_ready, 'Canada')"
      ],
      "id": "lryjzhjToGfd",
      "execution_count": 63,
      "outputs": [
        {
          "output_type": "stream",
          "text": [
            "Polynomial parameters  [ 2.75978177e-09 -2.03616759e-03 -1.50246743e+03  1.10852080e+09]\n"
          ],
          "name": "stdout"
        },
        {
          "output_type": "stream",
          "text": [
            "/usr/local/lib/python3.7/dist-packages/ipykernel_launcher.py:1: RankWarning: Polyfit may be poorly conditioned\n",
            "  \"\"\"Entry point for launching an IPython kernel.\n"
          ],
          "name": "stderr"
        },
        {
          "output_type": "display_data",
          "data": {
            "image/png": "[encoded data removed]",
            "text/plain": [
              "<Figure size 432x288 with 1 Axes>"
            ]
          },
          "metadata": {
            "tags": [],
            "needs_background": "light"
          }
        }
      ]
    },
    {
      "cell_type": "code",
      "metadata": {
        "colab": {
          "base_uri": "https://localhost:8080/"
        },
        "id": "ChiBJo0F6J3m",
        "outputId": "aebd53bb-a09c-48bc-9380-317f5cc6e3d1"
      },
      "source": [
        "def train_arima_model(df_ready, country_name, plot=False):\n",
        "  data = df_ready[df_ready['location'] == country_name]\n",
        "  data.head()\n",
        "  dates_ordinal = data['ordinal_date'].to_list()\n",
        "  dates = data['date'].to_list()\n",
        "  dates_dt = data['date_dt'].to_list()\n",
        "  ratio = data['ratio_vaccinated'].to_list()\n",
        "  # print(dates_ordinal)\n",
        "  # print(ratio)\n",
        "\n",
        "\n",
        "  # ARIMA example\n",
        "  from statsmodels.tsa.arima_model import ARIMA\n",
        "  from random import random\n",
        "  # contrived dataset\n",
        "  # data = [x + random() for x in range(1, 100)]\n",
        "  # fit model\n",
        "  model = ARIMA(ratio, order=(4, 1, 1))\n",
        "  model_fit = model.fit()\n",
        "  pred = []\n",
        "  # make prediction\n",
        "  # build extended range\n",
        "  extended_range = [d for d in dates_dt]\n",
        "  date = dates_dt[-1]\n",
        "  for i in range(365):\n",
        "      date += datetime.timedelta(days=1)\n",
        "      extended_range.append(date)\n",
        "  yhat = model_fit.predict(start=1, end=len(extended_range), typ='levels')\n",
        "  for i in range(len(yhat)):\n",
        "    if yhat[i] >= 100:\n",
        "      yhat[i] = 100\n",
        "  ret_date = extended_range[0]\n",
        "  for i in range(len(yhat)):\n",
        "    if yhat[i] >= 70:\n",
        "      # print('Reached 70 at date', extended_range[i])\n",
        "      ret_date = extended_range[i]\n",
        "      break\n",
        "  if plot:\n",
        "    plt.xticks(rotation=1000)\n",
        "\n",
        "    plt.scatter(dates_dt, ratio)\n",
        "    plt.plot(extended_range, yhat)\n",
        "  return ret_date\n",
        "\n",
        "train_arima_model(df_ready, 'Belgium')"
      ],
      "id": "ChiBJo0F6J3m",
      "execution_count": 22,
      "outputs": [
        {
          "output_type": "stream",
          "text": [
            "/usr/local/lib/python3.7/dist-packages/statsmodels/tools/_testing.py:19: FutureWarning: pandas.util.testing is deprecated. Use the functions in the public API at pandas.testing instead.\n",
            "  import pandas.util.testing as tm\n"
          ],
          "name": "stderr"
        },
        {
          "output_type": "execute_result",
          "data": {
            "text/plain": [
              "datetime.date(2021, 9, 12)"
            ]
          },
          "metadata": {
            "tags": []
          },
          "execution_count": 22
        }
      ]
    },
    {
      "cell_type": "code",
      "metadata": {
        "colab": {
          "base_uri": "https://localhost:8080/"
        },
        "id": "zy67SMaIWh2J",
        "outputId": "5da35de6-b66f-40d7-8f5a-04cf8a195d04"
      },
      "source": [
        "train_arima_model(df_ready, 'Israel')"
      ],
      "id": "zy67SMaIWh2J",
      "execution_count": 64,
      "outputs": [
        {
          "output_type": "execute_result",
          "data": {
            "text/plain": [
              "datetime.date(2021, 8, 21)"
            ]
          },
          "metadata": {
            "tags": []
          },
          "execution_count": 64
        }
      ]
    },
    {
      "cell_type": "code",
      "metadata": {
        "id": "uNg0CJE6z__K"
      },
      "source": [
        ""
      ],
      "id": "uNg0CJE6z__K",
      "execution_count": 23,
      "outputs": []
    },
    {
      "cell_type": "code",
      "metadata": {
        "colab": {
          "base_uri": "https://localhost:8080/"
        },
        "id": "pEoTlhM8XpZL",
        "outputId": "6a5fb696-bbd4-41c0-e976-45d9ffa0fb1d"
      },
      "source": [
        "# iterate over all countries and try to predict the date when they will have 70% of population vaccinated\n",
        "immunity_days = []\n",
        "failed_countries = []\n",
        "for country in countries:\n",
        "  try:\n",
        "    country_immunity_day = train_arima_model(df_ready, country)\n",
        "    immunity_days.append(country_immunity_day)\n",
        "    print('The country %s is reaching immunity on day %s' % (country, country_immunity_day))\n",
        "  except:\n",
        "    # print('Failed for country %s' % (country))\n",
        "    failed_countries.append(country)\n",
        "# print('list of failed countries ', countries)"
      ],
      "id": "pEoTlhM8XpZL",
      "execution_count": 65,
      "outputs": [
        {
          "output_type": "stream",
          "text": [
            "The country Argentina is reaching immunity on day 2021-01-20\n",
            "The country Aruba is reaching immunity on day 2021-05-25\n",
            "The country Austria is reaching immunity on day 2021-08-29\n",
            "The country Azerbaijan is reaching immunity on day 2021-04-01\n",
            "The country Bahrain is reaching immunity on day 2021-07-26\n",
            "The country Bangladesh is reaching immunity on day 2021-04-08\n",
            "The country Belgium is reaching immunity on day 2021-09-12\n",
            "The country Bolivia is reaching immunity on day 2021-03-02\n",
            "The country Brazil is reaching immunity on day 2022-05-04\n",
            "The country Bulgaria is reaching immunity on day 2021-01-18\n",
            "The country Cambodia is reaching immunity on day 2021-02-24\n"
          ],
          "name": "stdout"
        },
        {
          "output_type": "stream",
          "text": [
            "/usr/local/lib/python3.7/dist-packages/statsmodels/base/model.py:492: HessianInversionWarning: Inverting hessian failed, no bse or cov_params available\n",
            "  'available', HessianInversionWarning)\n",
            "/usr/local/lib/python3.7/dist-packages/statsmodels/base/model.py:512: ConvergenceWarning: Maximum Likelihood optimization failed to converge. Check mle_retvals\n",
            "  \"Check mle_retvals\", ConvergenceWarning)\n"
          ],
          "name": "stderr"
        },
        {
          "output_type": "stream",
          "text": [
            "The country Canada is reaching immunity on day 2021-06-22\n",
            "The country Cayman Islands is reaching immunity on day 2021-05-27\n",
            "The country Chile is reaching immunity on day 2021-08-14\n"
          ],
          "name": "stdout"
        },
        {
          "output_type": "stream",
          "text": [
            "/usr/local/lib/python3.7/dist-packages/statsmodels/base/model.py:492: HessianInversionWarning: Inverting hessian failed, no bse or cov_params available\n",
            "  'available', HessianInversionWarning)\n"
          ],
          "name": "stderr"
        },
        {
          "output_type": "stream",
          "text": [
            "The country Colombia is reaching immunity on day 2021-03-13\n",
            "The country Costa Rica is reaching immunity on day 2021-09-13\n",
            "The country Croatia is reaching immunity on day 2021-10-02\n",
            "The country Cyprus is reaching immunity on day 2021-06-08\n"
          ],
          "name": "stdout"
        },
        {
          "output_type": "stream",
          "text": [
            "/usr/local/lib/python3.7/dist-packages/statsmodels/base/model.py:492: HessianInversionWarning: Inverting hessian failed, no bse or cov_params available\n",
            "  'available', HessianInversionWarning)\n"
          ],
          "name": "stderr"
        },
        {
          "output_type": "stream",
          "text": [
            "The country Czechia is reaching immunity on day 2021-08-04\n",
            "The country Denmark is reaching immunity on day 2021-12-20\n",
            "The country Dominican Republic is reaching immunity on day 2021-08-27\n",
            "The country Ecuador is reaching immunity on day 2021-02-17\n"
          ],
          "name": "stdout"
        },
        {
          "output_type": "stream",
          "text": [
            "/usr/local/lib/python3.7/dist-packages/statsmodels/base/model.py:492: HessianInversionWarning: Inverting hessian failed, no bse or cov_params available\n",
            "  'available', HessianInversionWarning)\n"
          ],
          "name": "stderr"
        },
        {
          "output_type": "stream",
          "text": [
            "The country El Salvador is reaching immunity on day 2021-08-29\n",
            "The country Estonia is reaching immunity on day 2021-11-19\n",
            "The country Finland is reaching immunity on day 2021-07-17\n",
            "The country France is reaching immunity on day 2021-10-05\n"
          ],
          "name": "stdout"
        },
        {
          "output_type": "stream",
          "text": [
            "/usr/local/lib/python3.7/dist-packages/statsmodels/base/model.py:492: HessianInversionWarning: Inverting hessian failed, no bse or cov_params available\n",
            "  'available', HessianInversionWarning)\n",
            "/usr/local/lib/python3.7/dist-packages/statsmodels/base/model.py:512: ConvergenceWarning: Maximum Likelihood optimization failed to converge. Check mle_retvals\n",
            "  \"Check mle_retvals\", ConvergenceWarning)\n"
          ],
          "name": "stderr"
        },
        {
          "output_type": "stream",
          "text": [
            "The country Germany is reaching immunity on day 2021-07-22\n"
          ],
          "name": "stdout"
        },
        {
          "output_type": "stream",
          "text": [
            "/usr/local/lib/python3.7/dist-packages/statsmodels/base/model.py:492: HessianInversionWarning: Inverting hessian failed, no bse or cov_params available\n",
            "  'available', HessianInversionWarning)\n"
          ],
          "name": "stderr"
        },
        {
          "output_type": "stream",
          "text": [
            "The country Greece is reaching immunity on day 2021-12-01\n"
          ],
          "name": "stdout"
        },
        {
          "output_type": "stream",
          "text": [
            "/usr/local/lib/python3.7/dist-packages/statsmodels/tsa/tsatools.py:695: RuntimeWarning: divide by zero encountered in true_divide\n",
            "  invmacoefs = -np.log((1-macoefs)/(1+macoefs))\n",
            "/usr/local/lib/python3.7/dist-packages/statsmodels/tsa/tsatools.py:668: RuntimeWarning: invalid value encountered in true_divide\n",
            "  newparams = ((1-np.exp(-params))/(1+np.exp(-params))).copy()\n",
            "/usr/local/lib/python3.7/dist-packages/statsmodels/tsa/tsatools.py:669: RuntimeWarning: invalid value encountered in true_divide\n",
            "  tmp = ((1-np.exp(-params))/(1+np.exp(-params))).copy()\n"
          ],
          "name": "stderr"
        },
        {
          "output_type": "stream",
          "text": [
            "The country Hong Kong is reaching immunity on day 2022-04-06\n",
            "The country Hungary is reaching immunity on day 2021-07-26\n",
            "The country Iceland is reaching immunity on day 2021-06-14\n",
            "The country India is reaching immunity on day 2021-02-13\n",
            "The country Indonesia is reaching immunity on day 2021-01-28\n",
            "The country Israel is reaching immunity on day 2021-08-21\n"
          ],
          "name": "stdout"
        },
        {
          "output_type": "stream",
          "text": [
            "/usr/local/lib/python3.7/dist-packages/statsmodels/base/model.py:492: HessianInversionWarning: Inverting hessian failed, no bse or cov_params available\n",
            "  'available', HessianInversionWarning)\n",
            "/usr/local/lib/python3.7/dist-packages/statsmodels/base/model.py:512: ConvergenceWarning: Maximum Likelihood optimization failed to converge. Check mle_retvals\n",
            "  \"Check mle_retvals\", ConvergenceWarning)\n"
          ],
          "name": "stderr"
        },
        {
          "output_type": "stream",
          "text": [
            "The country Italy is reaching immunity on day 2021-06-05\n",
            "The country Japan is reaching immunity on day 2021-03-10\n"
          ],
          "name": "stdout"
        },
        {
          "output_type": "stream",
          "text": [
            "/usr/local/lib/python3.7/dist-packages/statsmodels/base/model.py:492: HessianInversionWarning: Inverting hessian failed, no bse or cov_params available\n",
            "  'available', HessianInversionWarning)\n",
            "/usr/local/lib/python3.7/dist-packages/statsmodels/base/model.py:512: ConvergenceWarning: Maximum Likelihood optimization failed to converge. Check mle_retvals\n",
            "  \"Check mle_retvals\", ConvergenceWarning)\n"
          ],
          "name": "stderr"
        },
        {
          "output_type": "stream",
          "text": [
            "The country Latvia is reaching immunity on day 2021-09-27\n",
            "The country Lebanon is reaching immunity on day 2021-03-10\n",
            "The country Lithuania is reaching immunity on day 2021-09-24\n"
          ],
          "name": "stdout"
        },
        {
          "output_type": "stream",
          "text": [
            "/usr/local/lib/python3.7/dist-packages/statsmodels/tsa/tsatools.py:668: RuntimeWarning: overflow encountered in exp\n",
            "  newparams = ((1-np.exp(-params))/(1+np.exp(-params))).copy()\n",
            "/usr/local/lib/python3.7/dist-packages/statsmodels/tsa/tsatools.py:669: RuntimeWarning: overflow encountered in exp\n",
            "  tmp = ((1-np.exp(-params))/(1+np.exp(-params))).copy()\n"
          ],
          "name": "stderr"
        },
        {
          "output_type": "stream",
          "text": [
            "The country Luxembourg is reaching immunity on day 2021-07-13\n",
            "The country Macao is reaching immunity on day 2021-04-07\n",
            "The country Malaysia is reaching immunity on day 2021-03-18\n",
            "The country Maldives is reaching immunity on day 2021-07-24\n",
            "The country Malta is reaching immunity on day 2021-06-04\n",
            "The country Mexico is reaching immunity on day 2021-01-15\n",
            "The country Moldova is reaching immunity on day 2021-04-15\n"
          ],
          "name": "stdout"
        },
        {
          "output_type": "stream",
          "text": [
            "/usr/local/lib/python3.7/dist-packages/statsmodels/base/model.py:492: HessianInversionWarning: Inverting hessian failed, no bse or cov_params available\n",
            "  'available', HessianInversionWarning)\n",
            "/usr/local/lib/python3.7/dist-packages/statsmodels/base/model.py:512: ConvergenceWarning: Maximum Likelihood optimization failed to converge. Check mle_retvals\n",
            "  \"Check mle_retvals\", ConvergenceWarning)\n"
          ],
          "name": "stderr"
        },
        {
          "output_type": "stream",
          "text": [
            "The country Montenegro is reaching immunity on day 2021-12-19\n",
            "The country Morocco is reaching immunity on day 2022-04-12\n"
          ],
          "name": "stdout"
        },
        {
          "output_type": "stream",
          "text": [
            "/usr/local/lib/python3.7/dist-packages/statsmodels/base/model.py:492: HessianInversionWarning: Inverting hessian failed, no bse or cov_params available\n",
            "  'available', HessianInversionWarning)\n"
          ],
          "name": "stderr"
        },
        {
          "output_type": "stream",
          "text": [
            "The country Namibia is reaching immunity on day 2021-04-19\n"
          ],
          "name": "stdout"
        },
        {
          "output_type": "stream",
          "text": [
            "/usr/local/lib/python3.7/dist-packages/statsmodels/base/model.py:492: HessianInversionWarning: Inverting hessian failed, no bse or cov_params available\n",
            "  'available', HessianInversionWarning)\n",
            "/usr/local/lib/python3.7/dist-packages/statsmodels/base/model.py:512: ConvergenceWarning: Maximum Likelihood optimization failed to converge. Check mle_retvals\n",
            "  \"Check mle_retvals\", ConvergenceWarning)\n"
          ],
          "name": "stderr"
        },
        {
          "output_type": "stream",
          "text": [
            "The country New Zealand is reaching immunity on day 2021-07-01\n",
            "The country Norway is reaching immunity on day 2021-12-24\n",
            "The country Oman is reaching immunity on day 2021-01-17\n"
          ],
          "name": "stdout"
        },
        {
          "output_type": "stream",
          "text": [
            "/usr/local/lib/python3.7/dist-packages/statsmodels/base/model.py:492: HessianInversionWarning: Inverting hessian failed, no bse or cov_params available\n",
            "  'available', HessianInversionWarning)\n",
            "/usr/local/lib/python3.7/dist-packages/statsmodels/base/model.py:512: ConvergenceWarning: Maximum Likelihood optimization failed to converge. Check mle_retvals\n",
            "  \"Check mle_retvals\", ConvergenceWarning)\n"
          ],
          "name": "stderr"
        },
        {
          "output_type": "stream",
          "text": [
            "The country Palestine is reaching immunity on day 2021-03-30\n",
            "The country Panama is reaching immunity on day 2022-05-01\n",
            "The country Paraguay is reaching immunity on day 2021-03-13\n",
            "The country Peru is reaching immunity on day 2021-03-02\n",
            "The country Philippines is reaching immunity on day 2021-03-30\n",
            "The country Poland is reaching immunity on day 2021-08-25\n",
            "The country Portugal is reaching immunity on day 2021-09-13\n",
            "The country Romania is reaching immunity on day 2021-01-17\n",
            "The country Russia is reaching immunity on day 2021-03-02\n",
            "The country San Marino is reaching immunity on day 2021-05-30\n",
            "The country Serbia is reaching immunity on day 2021-09-14\n",
            "The country Seychelles is reaching immunity on day 2021-05-22\n"
          ],
          "name": "stdout"
        },
        {
          "output_type": "stream",
          "text": [
            "/usr/local/lib/python3.7/dist-packages/statsmodels/tsa/ar_model.py:763: RuntimeWarning: divide by zero encountered in log\n",
            "  return np.log(self.sigma2) + (1 + self.df_model) * np.log(nobs)/nobs\n",
            "/usr/local/lib/python3.7/dist-packages/statsmodels/base/model.py:492: HessianInversionWarning: Inverting hessian failed, no bse or cov_params available\n",
            "  'available', HessianInversionWarning)\n"
          ],
          "name": "stderr"
        },
        {
          "output_type": "stream",
          "text": [
            "The country Sierra Leone is reaching immunity on day 2021-04-10\n",
            "The country Slovakia is reaching immunity on day 2022-02-22\n",
            "The country Slovenia is reaching immunity on day 2021-12-06\n",
            "The country South Africa is reaching immunity on day 2021-02-18\n",
            "The country South Korea is reaching immunity on day 2021-03-20\n",
            "The country Spain is reaching immunity on day 2021-09-08\n",
            "The country Sweden is reaching immunity on day 2021-06-13\n"
          ],
          "name": "stdout"
        },
        {
          "output_type": "stream",
          "text": [
            "/usr/local/lib/python3.7/dist-packages/statsmodels/base/model.py:492: HessianInversionWarning: Inverting hessian failed, no bse or cov_params available\n",
            "  'available', HessianInversionWarning)\n",
            "/usr/local/lib/python3.7/dist-packages/statsmodels/base/model.py:512: ConvergenceWarning: Maximum Likelihood optimization failed to converge. Check mle_retvals\n",
            "  \"Check mle_retvals\", ConvergenceWarning)\n"
          ],
          "name": "stderr"
        },
        {
          "output_type": "stream",
          "text": [
            "The country Switzerland is reaching immunity on day 2021-08-15\n",
            "The country Thailand is reaching immunity on day 2021-03-24\n",
            "The country Tunisia is reaching immunity on day 2021-04-07\n",
            "The country Turkey is reaching immunity on day 2021-02-12\n",
            "The country Ukraine is reaching immunity on day 2021-03-17\n",
            "The country United Kingdom is reaching immunity on day 2021-07-24\n",
            "The country United States is reaching immunity on day 2021-08-29\n",
            "The country Uruguay is reaching immunity on day 2021-08-10\n",
            "The country Zimbabwe is reaching immunity on day 2021-03-22\n"
          ],
          "name": "stdout"
        }
      ]
    },
    {
      "cell_type": "code",
      "metadata": {
        "colab": {
          "base_uri": "https://localhost:8080/"
        },
        "id": "wQhi-sNnYciM",
        "outputId": "d4b37b30-d06e-45b4-80bf-18221ca42978"
      },
      "source": [
        "print(len(countries))\n",
        "print(failed_countries)\n",
        "print(len(immunity_days))"
      ],
      "id": "wQhi-sNnYciM",
      "execution_count": 66,
      "outputs": [
        {
          "output_type": "stream",
          "text": [
            "114\n",
            "['Albania', 'Barbados', 'Belarus', 'Bermuda', 'Dominica', 'Egypt', 'Equatorial Guinea', 'Gabon', 'Grenada', 'Guatemala', 'Guinea', 'Guyana', 'Iran', 'Ireland', 'Jordan', 'Kazakhstan', 'Kuwait', 'Kyrgyzstan', 'Laos', 'Mongolia', 'Myanmar', 'Netherlands', 'North Macedonia', 'Pakistan', 'Qatar', 'Saint Kitts and Nevis', 'Singapore', 'Solomon Islands', 'Sri Lanka', 'Suriname', 'Tonga', 'Trinidad and Tobago', 'United Arab Emirates', 'Vietnam']\n",
            "80\n"
          ],
          "name": "stdout"
        }
      ]
    },
    {
      "cell_type": "code",
      "metadata": {
        "colab": {
          "base_uri": "https://localhost:8080/"
        },
        "id": "Ck1af7PzZ4MG",
        "outputId": "e5b620c2-af02-4131-ad8b-5d1fb1332ce8"
      },
      "source": [
        "# print the number of data points for countries where we couldn't predict the immunity day to notice any pattern\n",
        "# the mean number of data points is 12\n",
        "fc = by_country[failed_countries]\n",
        "fc.describe()"
      ],
      "id": "Ck1af7PzZ4MG",
      "execution_count": 67,
      "outputs": [
        {
          "output_type": "execute_result",
          "data": {
            "text/plain": [
              "count    34.000000\n",
              "mean     11.882353\n",
              "std      16.137223\n",
              "min       2.000000\n",
              "25%       3.000000\n",
              "50%       8.000000\n",
              "75%      15.000000\n",
              "max      89.000000\n",
              "Name: location, dtype: float64"
            ]
          },
          "metadata": {
            "tags": []
          },
          "execution_count": 67
        }
      ]
    },
    {
      "cell_type": "code",
      "metadata": {
        "colab": {
          "base_uri": "https://localhost:8080/"
        },
        "id": "i97lasy_aSk2",
        "outputId": "c36888f5-23c3-46bb-9870-9821d946fb78"
      },
      "source": [
        "# countries that the ARIMA model succeeded to predict have way higher mean of number of datapoints than \n",
        "# the failed \n",
        "# the mean number of data points in 73\n",
        "sc = by_country[[c for c in countries if c not in failed_countries]]\n",
        "sc.describe()"
      ],
      "id": "i97lasy_aSk2",
      "execution_count": 68,
      "outputs": [
        {
          "output_type": "execute_result",
          "data": {
            "text/plain": [
              "count     80.000000\n",
              "mean      74.087500\n",
              "std       37.264771\n",
              "min        8.000000\n",
              "25%       43.000000\n",
              "50%       69.000000\n",
              "75%      115.250000\n",
              "max      139.000000\n",
              "Name: location, dtype: float64"
            ]
          },
          "metadata": {
            "tags": []
          },
          "execution_count": 68
        }
      ]
    },
    {
      "cell_type": "code",
      "metadata": {
        "id": "oodVsz-kdbBB"
      },
      "source": [
        ""
      ],
      "id": "oodVsz-kdbBB",
      "execution_count": 27,
      "outputs": []
    },
    {
      "cell_type": "code",
      "metadata": {
        "colab": {
          "base_uri": "https://localhost:8080/",
          "height": 388
        },
        "id": "hh8aGDrSbXNA",
        "outputId": "ff04fce2-7ba7-469e-b634-d86335e5680c"
      },
      "source": [
        "# countries reaching immunity\n",
        "countries_reaching_immunity = [c for c in countries if c not in failed_countries]\n",
        "f = dict()\n",
        "for i in range(len(immunity_days)):\n",
        "  try:\n",
        "    f[immunity_days[i]] += 1\n",
        "  except:\n",
        "    f[immunity_days[i]] = 1\n",
        "# for \n",
        "print(f.keys())\n",
        "print(f.values())\n",
        "plt.scatter([d for d in f.keys()], [v for v in f.values()])\n",
        "plt.xticks(rotation=100)\n",
        "plt.title('Number of countries reaching immunity per date')"
      ],
      "id": "hh8aGDrSbXNA",
      "execution_count": 69,
      "outputs": [
        {
          "output_type": "stream",
          "text": [
            "dict_keys([datetime.date(2021, 1, 20), datetime.date(2021, 5, 25), datetime.date(2021, 8, 29), datetime.date(2021, 4, 1), datetime.date(2021, 7, 26), datetime.date(2021, 4, 8), datetime.date(2021, 9, 12), datetime.date(2021, 3, 2), datetime.date(2022, 5, 4), datetime.date(2021, 1, 18), datetime.date(2021, 2, 24), datetime.date(2021, 6, 22), datetime.date(2021, 5, 27), datetime.date(2021, 8, 14), datetime.date(2021, 3, 13), datetime.date(2021, 9, 13), datetime.date(2021, 10, 2), datetime.date(2021, 6, 8), datetime.date(2021, 8, 4), datetime.date(2021, 12, 20), datetime.date(2021, 8, 27), datetime.date(2021, 2, 17), datetime.date(2021, 11, 19), datetime.date(2021, 7, 17), datetime.date(2021, 10, 5), datetime.date(2021, 7, 22), datetime.date(2021, 12, 1), datetime.date(2022, 4, 6), datetime.date(2021, 6, 14), datetime.date(2021, 2, 13), datetime.date(2021, 1, 28), datetime.date(2021, 8, 21), datetime.date(2021, 6, 5), datetime.date(2021, 3, 10), datetime.date(2021, 9, 27), datetime.date(2021, 9, 24), datetime.date(2021, 7, 13), datetime.date(2021, 4, 7), datetime.date(2021, 3, 18), datetime.date(2021, 7, 24), datetime.date(2021, 6, 4), datetime.date(2021, 1, 15), datetime.date(2021, 4, 15), datetime.date(2021, 12, 19), datetime.date(2022, 4, 12), datetime.date(2021, 4, 19), datetime.date(2021, 7, 1), datetime.date(2021, 12, 24), datetime.date(2021, 1, 17), datetime.date(2021, 3, 30), datetime.date(2022, 5, 1), datetime.date(2021, 8, 25), datetime.date(2021, 5, 30), datetime.date(2021, 9, 14), datetime.date(2021, 5, 22), datetime.date(2021, 4, 10), datetime.date(2022, 2, 22), datetime.date(2021, 12, 6), datetime.date(2021, 2, 18), datetime.date(2021, 3, 20), datetime.date(2021, 9, 8), datetime.date(2021, 6, 13), datetime.date(2021, 8, 15), datetime.date(2021, 3, 24), datetime.date(2021, 2, 12), datetime.date(2021, 3, 17), datetime.date(2021, 8, 10), datetime.date(2021, 3, 22)])\n",
            "dict_values([1, 1, 3, 1, 2, 1, 1, 3, 1, 1, 1, 1, 1, 1, 2, 2, 1, 1, 1, 1, 1, 1, 1, 1, 1, 1, 1, 1, 1, 1, 1, 1, 1, 2, 1, 1, 1, 2, 1, 2, 1, 1, 1, 1, 1, 1, 1, 1, 2, 2, 1, 1, 1, 1, 1, 1, 1, 1, 1, 1, 1, 1, 1, 1, 1, 1, 1, 1])\n"
          ],
          "name": "stdout"
        },
        {
          "output_type": "execute_result",
          "data": {
            "text/plain": [
              "Text(0.5, 1.0, 'Number of countries reaching immunity per date')"
            ]
          },
          "metadata": {
            "tags": []
          },
          "execution_count": 69
        },
        {
          "output_type": "display_data",
          "data": {
            "image/png": "[encoded data removed]",
            "text/plain": [
              "<Figure size 432x288 with 1 Axes>"
            ]
          },
          "metadata": {
            "tags": [],
            "needs_background": "light"
          }
        }
      ]
    },
    {
      "cell_type": "code",
      "metadata": {
        "colab": {
          "base_uri": "https://localhost:8080/"
        },
        "id": "4LPzV7b_iK0r",
        "outputId": "6f7574a5-afb8-4c84-e2e6-465579a38669"
      },
      "source": [
        "!pip install geopandas"
      ],
      "id": "4LPzV7b_iK0r",
      "execution_count": 70,
      "outputs": [
        {
          "output_type": "stream",
          "text": [
            "Requirement already satisfied: geopandas in /usr/local/lib/python3.7/dist-packages (0.9.0)\n",
            "Requirement already satisfied: shapely>=1.6 in /usr/local/lib/python3.7/dist-packages (from geopandas) (1.7.1)\n",
            "Requirement already satisfied: pyproj>=2.2.0 in /usr/local/lib/python3.7/dist-packages (from geopandas) (3.1.0)\n",
            "Requirement already satisfied: pandas>=0.24.0 in /usr/local/lib/python3.7/dist-packages (from geopandas) (1.1.5)\n",
            "Requirement already satisfied: fiona>=1.8 in /usr/local/lib/python3.7/dist-packages (from geopandas) (1.8.20)\n",
            "Requirement already satisfied: certifi in /usr/local/lib/python3.7/dist-packages (from pyproj>=2.2.0->geopandas) (2020.12.5)\n",
            "Requirement already satisfied: pytz>=2017.2 in /usr/local/lib/python3.7/dist-packages (from pandas>=0.24.0->geopandas) (2018.9)\n",
            "Requirement already satisfied: numpy>=1.15.4 in /usr/local/lib/python3.7/dist-packages (from pandas>=0.24.0->geopandas) (1.19.5)\n",
            "Requirement already satisfied: python-dateutil>=2.7.3 in /usr/local/lib/python3.7/dist-packages (from pandas>=0.24.0->geopandas) (2.8.1)\n",
            "Requirement already satisfied: munch in /usr/local/lib/python3.7/dist-packages (from fiona>=1.8->geopandas) (2.5.0)\n",
            "Requirement already satisfied: cligj>=0.5 in /usr/local/lib/python3.7/dist-packages (from fiona>=1.8->geopandas) (0.7.2)\n",
            "Requirement already satisfied: attrs>=17 in /usr/local/lib/python3.7/dist-packages (from fiona>=1.8->geopandas) (21.2.0)\n",
            "Requirement already satisfied: setuptools in /usr/local/lib/python3.7/dist-packages (from fiona>=1.8->geopandas) (57.0.0)\n",
            "Requirement already satisfied: click-plugins>=1.0 in /usr/local/lib/python3.7/dist-packages (from fiona>=1.8->geopandas) (1.1.1)\n",
            "Requirement already satisfied: six>=1.7 in /usr/local/lib/python3.7/dist-packages (from fiona>=1.8->geopandas) (1.15.0)\n",
            "Requirement already satisfied: click>=4.0 in /usr/local/lib/python3.7/dist-packages (from fiona>=1.8->geopandas) (7.1.2)\n"
          ],
          "name": "stdout"
        }
      ]
    },
    {
      "cell_type": "code",
      "metadata": {
        "colab": {
          "base_uri": "https://localhost:8080/",
          "height": 204
        },
        "id": "TqRzKiU3t34l",
        "outputId": "0442ec7f-5564-4c74-f9b5-938fa63d412c"
      },
      "source": [
        "# create dataframe for the day of reaching immunity for every country we could estimate for\n",
        "df_immunity = pd.DataFrame({'name': countries_reaching_immunity, 'immunity_day': immunity_days})\n",
        "df_immunity.head()"
      ],
      "id": "TqRzKiU3t34l",
      "execution_count": 71,
      "outputs": [
        {
          "output_type": "execute_result",
          "data": {
            "text/html": [
              "<div>\n",
              "<style scoped>\n",
              "    .dataframe tbody tr th:only-of-type {\n",
              "        vertical-align: middle;\n",
              "    }\n",
              "\n",
              "    .dataframe tbody tr th {\n",
              "        vertical-align: top;\n",
              "    }\n",
              "\n",
              "    .dataframe thead th {\n",
              "        text-align: right;\n",
              "    }\n",
              "</style>\n",
              "<table border=\"1\" class=\"dataframe\">\n",
              "  <thead>\n",
              "    <tr style=\"text-align: right;\">\n",
              "      <th></th>\n",
              "      <th>name</th>\n",
              "      <th>immunity_day</th>\n",
              "    </tr>\n",
              "  </thead>\n",
              "  <tbody>\n",
              "    <tr>\n",
              "      <th>0</th>\n",
              "      <td>Argentina</td>\n",
              "      <td>2021-01-20</td>\n",
              "    </tr>\n",
              "    <tr>\n",
              "      <th>1</th>\n",
              "      <td>Aruba</td>\n",
              "      <td>2021-05-25</td>\n",
              "    </tr>\n",
              "    <tr>\n",
              "      <th>2</th>\n",
              "      <td>Austria</td>\n",
              "      <td>2021-08-29</td>\n",
              "    </tr>\n",
              "    <tr>\n",
              "      <th>3</th>\n",
              "      <td>Azerbaijan</td>\n",
              "      <td>2021-04-01</td>\n",
              "    </tr>\n",
              "    <tr>\n",
              "      <th>4</th>\n",
              "      <td>Bahrain</td>\n",
              "      <td>2021-07-26</td>\n",
              "    </tr>\n",
              "  </tbody>\n",
              "</table>\n",
              "</div>"
            ],
            "text/plain": [
              "         name immunity_day\n",
              "0   Argentina   2021-01-20\n",
              "1       Aruba   2021-05-25\n",
              "2     Austria   2021-08-29\n",
              "3  Azerbaijan   2021-04-01\n",
              "4     Bahrain   2021-07-26"
            ]
          },
          "metadata": {
            "tags": []
          },
          "execution_count": 71
        }
      ]
    },
    {
      "cell_type": "code",
      "metadata": {
        "colab": {
          "base_uri": "https://localhost:8080/",
          "height": 204
        },
        "id": "nD3i5BmfiJS9",
        "outputId": "192e2f6a-7bf6-49b4-a66d-7762b45548e2"
      },
      "source": [
        "import geopandas as gpd\n",
        "\n",
        "world = gpd.read_file(gpd.datasets.get_path('naturalearth_lowres'))\n",
        "# world.plot()\n",
        "world_immunity = pd.merge(world, df_immunity, on='name')\n",
        "world_immunity.head()\n",
        "# world.plot(column='gdp_md_est\t', cmap='OrRd', scheme='quantiles');"
      ],
      "id": "nD3i5BmfiJS9",
      "execution_count": 72,
      "outputs": [
        {
          "output_type": "execute_result",
          "data": {
            "text/html": [
              "<div>\n",
              "<style scoped>\n",
              "    .dataframe tbody tr th:only-of-type {\n",
              "        vertical-align: middle;\n",
              "    }\n",
              "\n",
              "    .dataframe tbody tr th {\n",
              "        vertical-align: top;\n",
              "    }\n",
              "\n",
              "    .dataframe thead th {\n",
              "        text-align: right;\n",
              "    }\n",
              "</style>\n",
              "<table border=\"1\" class=\"dataframe\">\n",
              "  <thead>\n",
              "    <tr style=\"text-align: right;\">\n",
              "      <th></th>\n",
              "      <th>pop_est</th>\n",
              "      <th>continent</th>\n",
              "      <th>name</th>\n",
              "      <th>iso_a3</th>\n",
              "      <th>gdp_md_est</th>\n",
              "      <th>geometry</th>\n",
              "      <th>immunity_day</th>\n",
              "    </tr>\n",
              "  </thead>\n",
              "  <tbody>\n",
              "    <tr>\n",
              "      <th>0</th>\n",
              "      <td>35623680</td>\n",
              "      <td>North America</td>\n",
              "      <td>Canada</td>\n",
              "      <td>CAN</td>\n",
              "      <td>1674000.0</td>\n",
              "      <td>MULTIPOLYGON (((-122.840 49.000, -122.974 49.0...</td>\n",
              "      <td>2021-06-22</td>\n",
              "    </tr>\n",
              "    <tr>\n",
              "      <th>1</th>\n",
              "      <td>260580739</td>\n",
              "      <td>Asia</td>\n",
              "      <td>Indonesia</td>\n",
              "      <td>IDN</td>\n",
              "      <td>3028000.0</td>\n",
              "      <td>MULTIPOLYGON (((141.000 -2.600, 141.017 -5.859...</td>\n",
              "      <td>2021-01-28</td>\n",
              "    </tr>\n",
              "    <tr>\n",
              "      <th>2</th>\n",
              "      <td>44293293</td>\n",
              "      <td>South America</td>\n",
              "      <td>Argentina</td>\n",
              "      <td>ARG</td>\n",
              "      <td>879400.0</td>\n",
              "      <td>MULTIPOLYGON (((-68.634 -52.636, -68.250 -53.1...</td>\n",
              "      <td>2021-01-20</td>\n",
              "    </tr>\n",
              "    <tr>\n",
              "      <th>3</th>\n",
              "      <td>17789267</td>\n",
              "      <td>South America</td>\n",
              "      <td>Chile</td>\n",
              "      <td>CHL</td>\n",
              "      <td>436100.0</td>\n",
              "      <td>MULTIPOLYGON (((-68.634 -52.636, -68.633 -54.8...</td>\n",
              "      <td>2021-08-14</td>\n",
              "    </tr>\n",
              "    <tr>\n",
              "      <th>4</th>\n",
              "      <td>142257519</td>\n",
              "      <td>Europe</td>\n",
              "      <td>Russia</td>\n",
              "      <td>RUS</td>\n",
              "      <td>3745000.0</td>\n",
              "      <td>MULTIPOLYGON (((178.725 71.099, 180.000 71.516...</td>\n",
              "      <td>2021-03-02</td>\n",
              "    </tr>\n",
              "  </tbody>\n",
              "</table>\n",
              "</div>"
            ],
            "text/plain": [
              "     pop_est  ... immunity_day\n",
              "0   35623680  ...   2021-06-22\n",
              "1  260580739  ...   2021-01-28\n",
              "2   44293293  ...   2021-01-20\n",
              "3   17789267  ...   2021-08-14\n",
              "4  142257519  ...   2021-03-02\n",
              "\n",
              "[5 rows x 7 columns]"
            ]
          },
          "metadata": {
            "tags": []
          },
          "execution_count": 72
        }
      ]
    },
    {
      "cell_type": "code",
      "metadata": {
        "colab": {
          "base_uri": "https://localhost:8080/",
          "height": 80
        },
        "id": "z3JGiwsgweb7",
        "outputId": "f8b9afa6-0ccb-490d-f3e7-becd1f9ead20"
      },
      "source": [
        "world_immunity[world_immunity['name'] == 'Canada']"
      ],
      "id": "z3JGiwsgweb7",
      "execution_count": 75,
      "outputs": [
        {
          "output_type": "execute_result",
          "data": {
            "text/html": [
              "<div>\n",
              "<style scoped>\n",
              "    .dataframe tbody tr th:only-of-type {\n",
              "        vertical-align: middle;\n",
              "    }\n",
              "\n",
              "    .dataframe tbody tr th {\n",
              "        vertical-align: top;\n",
              "    }\n",
              "\n",
              "    .dataframe thead th {\n",
              "        text-align: right;\n",
              "    }\n",
              "</style>\n",
              "<table border=\"1\" class=\"dataframe\">\n",
              "  <thead>\n",
              "    <tr style=\"text-align: right;\">\n",
              "      <th></th>\n",
              "      <th>pop_est</th>\n",
              "      <th>continent</th>\n",
              "      <th>name</th>\n",
              "      <th>iso_a3</th>\n",
              "      <th>gdp_md_est</th>\n",
              "      <th>geometry</th>\n",
              "      <th>immunity_day</th>\n",
              "    </tr>\n",
              "  </thead>\n",
              "  <tbody>\n",
              "    <tr>\n",
              "      <th>0</th>\n",
              "      <td>35623680</td>\n",
              "      <td>North America</td>\n",
              "      <td>Canada</td>\n",
              "      <td>CAN</td>\n",
              "      <td>1674000.0</td>\n",
              "      <td>MULTIPOLYGON (((-122.84000 49.00000, -122.9742...</td>\n",
              "      <td>2021-06-22</td>\n",
              "    </tr>\n",
              "  </tbody>\n",
              "</table>\n",
              "</div>"
            ],
            "text/plain": [
              "    pop_est  ... immunity_day\n",
              "0  35623680  ...   2021-06-22\n",
              "\n",
              "[1 rows x 7 columns]"
            ]
          },
          "metadata": {
            "tags": []
          },
          "execution_count": 75
        }
      ]
    },
    {
      "cell_type": "code",
      "metadata": {
        "colab": {
          "base_uri": "https://localhost:8080/",
          "height": 199
        },
        "id": "g9xjocEpvi_s",
        "outputId": "0174fb39-f052-43db-9d89-615fcc7ac1b4"
      },
      "source": [
        "world_immunity.plot(column='immunity_day', cmap='OrRd')"
      ],
      "id": "g9xjocEpvi_s",
      "execution_count": 76,
      "outputs": [
        {
          "output_type": "execute_result",
          "data": {
            "text/plain": [
              "<matplotlib.axes._subplots.AxesSubplot at 0x7f785fb98f50>"
            ]
          },
          "metadata": {
            "tags": []
          },
          "execution_count": 76
        },
        {
          "output_type": "display_data",
          "data": {
            "image/png": "[encoded data removed]",
            "text/plain": [
              "<Figure size 432x288 with 1 Axes>"
            ]
          },
          "metadata": {
            "tags": [],
            "needs_background": "light"
          }
        }
      ]
    },
    {
      "cell_type": "code",
      "metadata": {
        "colab": {
          "base_uri": "https://localhost:8080/"
        },
        "id": "t1kQLmpngYFo",
        "outputId": "702c088e-b6f7-4524-829d-32b829a47df6"
      },
      "source": [
        "import geopandas\n",
        "\n",
        "world = geopandas.read_file(geopandas.datasets.get_path('naturalearth_lowres'))\n",
        "world = world[(world.pop_est>0) & (world.name!=\"Antarctica\")]\n",
        "world['gdp_per_cap'] = world.gdp_md_est / world.pop_est\n",
        "# world.plot(column='gdp_per_cap');\n",
        "# fig, ax = plt.subplots(1, 1)\n",
        "# world.plot(column='pop_est', ax=ax, legend=True)\n",
        "world.columns"
      ],
      "id": "t1kQLmpngYFo",
      "execution_count": 77,
      "outputs": [
        {
          "output_type": "execute_result",
          "data": {
            "text/plain": [
              "Index(['pop_est', 'continent', 'name', 'iso_a3', 'gdp_md_est', 'geometry',\n",
              "       'gdp_per_cap'],\n",
              "      dtype='object')"
            ]
          },
          "metadata": {
            "tags": []
          },
          "execution_count": 77
        }
      ]
    },
    {
      "cell_type": "code",
      "metadata": {
        "colab": {
          "base_uri": "https://localhost:8080/"
        },
        "id": "oVoMbYe-hwcz",
        "outputId": "a31d0eb0-2502-4575-bc8c-cc02dbb2dd38"
      },
      "source": [
        "world.name.unique()"
      ],
      "id": "oVoMbYe-hwcz",
      "execution_count": 78,
      "outputs": [
        {
          "output_type": "execute_result",
          "data": {
            "text/plain": [
              "array(['Fiji', 'Tanzania', 'W. Sahara', 'Canada',\n",
              "       'United States of America', 'Kazakhstan', 'Uzbekistan',\n",
              "       'Papua New Guinea', 'Indonesia', 'Argentina', 'Chile',\n",
              "       'Dem. Rep. Congo', 'Somalia', 'Kenya', 'Sudan', 'Chad', 'Haiti',\n",
              "       'Dominican Rep.', 'Russia', 'Bahamas', 'Falkland Is.', 'Norway',\n",
              "       'Greenland', 'Fr. S. Antarctic Lands', 'Timor-Leste',\n",
              "       'South Africa', 'Lesotho', 'Mexico', 'Uruguay', 'Brazil',\n",
              "       'Bolivia', 'Peru', 'Colombia', 'Panama', 'Costa Rica', 'Nicaragua',\n",
              "       'Honduras', 'El Salvador', 'Guatemala', 'Belize', 'Venezuela',\n",
              "       'Guyana', 'Suriname', 'France', 'Ecuador', 'Puerto Rico',\n",
              "       'Jamaica', 'Cuba', 'Zimbabwe', 'Botswana', 'Namibia', 'Senegal',\n",
              "       'Mali', 'Mauritania', 'Benin', 'Niger', 'Nigeria', 'Cameroon',\n",
              "       'Togo', 'Ghana', \"Côte d'Ivoire\", 'Guinea', 'Guinea-Bissau',\n",
              "       'Liberia', 'Sierra Leone', 'Burkina Faso', 'Central African Rep.',\n",
              "       'Congo', 'Gabon', 'Eq. Guinea', 'Zambia', 'Malawi', 'Mozambique',\n",
              "       'eSwatini', 'Angola', 'Burundi', 'Israel', 'Lebanon', 'Madagascar',\n",
              "       'Palestine', 'Gambia', 'Tunisia', 'Algeria', 'Jordan',\n",
              "       'United Arab Emirates', 'Qatar', 'Kuwait', 'Iraq', 'Oman',\n",
              "       'Vanuatu', 'Cambodia', 'Thailand', 'Laos', 'Myanmar', 'Vietnam',\n",
              "       'North Korea', 'South Korea', 'Mongolia', 'India', 'Bangladesh',\n",
              "       'Bhutan', 'Nepal', 'Pakistan', 'Afghanistan', 'Tajikistan',\n",
              "       'Kyrgyzstan', 'Turkmenistan', 'Iran', 'Syria', 'Armenia', 'Sweden',\n",
              "       'Belarus', 'Ukraine', 'Poland', 'Austria', 'Hungary', 'Moldova',\n",
              "       'Romania', 'Lithuania', 'Latvia', 'Estonia', 'Germany', 'Bulgaria',\n",
              "       'Greece', 'Turkey', 'Albania', 'Croatia', 'Switzerland',\n",
              "       'Luxembourg', 'Belgium', 'Netherlands', 'Portugal', 'Spain',\n",
              "       'Ireland', 'New Caledonia', 'Solomon Is.', 'New Zealand',\n",
              "       'Australia', 'Sri Lanka', 'China', 'Taiwan', 'Italy', 'Denmark',\n",
              "       'United Kingdom', 'Iceland', 'Azerbaijan', 'Georgia',\n",
              "       'Philippines', 'Malaysia', 'Brunei', 'Slovenia', 'Finland',\n",
              "       'Slovakia', 'Czechia', 'Eritrea', 'Japan', 'Paraguay', 'Yemen',\n",
              "       'Saudi Arabia', 'N. Cyprus', 'Cyprus', 'Morocco', 'Egypt', 'Libya',\n",
              "       'Ethiopia', 'Djibouti', 'Somaliland', 'Uganda', 'Rwanda',\n",
              "       'Bosnia and Herz.', 'Macedonia', 'Serbia', 'Montenegro', 'Kosovo',\n",
              "       'Trinidad and Tobago', 'S. Sudan'], dtype=object)"
            ]
          },
          "metadata": {
            "tags": []
          },
          "execution_count": 78
        }
      ]
    },
    {
      "cell_type": "code",
      "metadata": {
        "id": "aX6KvF2OtZxo"
      },
      "source": [
        ""
      ],
      "id": "aX6KvF2OtZxo",
      "execution_count": 35,
      "outputs": []
    }
  ]
}